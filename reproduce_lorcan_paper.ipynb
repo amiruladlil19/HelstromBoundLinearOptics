{
 "cells": [
  {
   "cell_type": "code",
   "execution_count": 1,
   "id": "683708a5",
   "metadata": {},
   "outputs": [],
   "source": [
    "import numpy as np\n",
    "import matplotlib.pyplot as plt\n",
    "from scipy.linalg import fractional_matrix_power\n",
    "from scipy.optimize import minimize_scalar\n",
    "\n",
    "def helstrom_operator(q0, rho0, rho1):\n",
    "    return q0*rho0 - (1-q0)*rho1"
   ]
  },
  {
   "cell_type": "code",
   "execution_count": 2,
   "id": "e194acf0",
   "metadata": {},
   "outputs": [],
   "source": [
    "def pauli_matrices(string):\n",
    "    if string == 'x':\n",
    "        return np.array([[0, 1], [1, 0]])\n",
    "    elif string == 'y':\n",
    "        return np.array([[0, -i], [i,0]])\n",
    "    elif string == 'z':\n",
    "        return np.array([[1, 0], [0, -1]])\n",
    "\n",
    "def identity_matrix(n):\n",
    "    return np.identity(n)"
   ]
  },
  {
   "cell_type": "code",
   "execution_count": 3,
   "id": "1597bb95",
   "metadata": {},
   "outputs": [],
   "source": [
    "def simple_qubit_example(nu, pauli_matrix):\n",
    "    i2 = identity_matrix(2)\n",
    "    rho0 = (i2 + (1-nu)*pauli_matrix)/2\n",
    "    rho1 = (i2 - (1-nu)*pauli_matrix)/2\n",
    "    return rho0, rho1"
   ]
  },
  {
   "cell_type": "code",
   "execution_count": 4,
   "id": "32f48955",
   "metadata": {},
   "outputs": [],
   "source": [
    "rho0, rho1 = simple_qubit_example(0.8, pauli_matrices('z'))"
   ]
  },
  {
   "cell_type": "code",
   "execution_count": 5,
   "id": "af161350",
   "metadata": {},
   "outputs": [],
   "source": [
    "def state_copies(rho, M):\n",
    "    result = rho\n",
    "    for _ in range(M-1):\n",
    "        result = np.kron(result, rho)\n",
    "    return result"
   ]
  },
  {
   "cell_type": "code",
   "execution_count": 6,
   "id": "aed56133",
   "metadata": {},
   "outputs": [],
   "source": [
    "def helstrom_bound(q, rho0, rho1):\n",
    "    return (1 - np.linalg.norm(q0*rho0 - (1-q0)*rho1))/2"
   ]
  },
  {
   "cell_type": "code",
   "execution_count": 7,
   "id": "29597fbb",
   "metadata": {},
   "outputs": [],
   "source": [
    "def chernoff_error_exponent(rho0, rho1):\n",
    "    def chernoff_coefficient(s):\n",
    "        product = np.dot(fractional_matrix_power(rho0, s), fractional_matrix_power(rho1, 1-s))\n",
    "        return np.real(np.trace(product))\n",
    "\n",
    "    res = minimize_scalar(chernoff_coefficient, bounds=(0,1), method='bounded')\n",
    "\n",
    "    if not res.success:\n",
    "        raise RuntimeError(\"Minimization Failed\")\n",
    "\n",
    "    c_opt = res.fun\n",
    "    return -np.log(c_opt)"
   ]
  },
  {
   "cell_type": "code",
   "execution_count": 8,
   "id": "032fdd3c",
   "metadata": {},
   "outputs": [],
   "source": [
    "def get_helstrom_povm_multicopy(rho_plus: np.ndarray, rho_minus: np.ndarray, M: int = 1):\n",
    "    \"\"\"\n",
    "    Returns the Helstrom POVM (Pi_plus, Pi_minus) for M-copy discrimination between\n",
    "    rho_plus and rho_minus (equal priors assumed).\n",
    "\n",
    "    Requires: state_copies(rho, M)\n",
    "    \"\"\"\n",
    "    # Use user-defined Kronecker power function\n",
    "    rho_plus_M = state_copies(rho_plus, M)\n",
    "    rho_minus_M = state_copies(rho_minus, M)\n",
    "\n",
    "    # Helstrom operator: delta = q * rho_plus_M - (1 - q) * rho_minus_M with q = 1/2\n",
    "    delta = 0.5 * (rho_plus_M - rho_minus_M)\n",
    "\n",
    "    eigvals, eigvecs = np.linalg.eigh(delta)\n",
    "\n",
    "    # Construct POVM elements from eigenvectors\n",
    "    Pi_plus = np.zeros_like(delta)\n",
    "    Pi_minus = np.zeros_like(delta)\n",
    "\n",
    "    for i in range(len(eigvals)):\n",
    "        projector = np.outer(eigvecs[:, i], eigvecs[:, i])\n",
    "        if eigvals[i] > 0:\n",
    "            Pi_plus += projector\n",
    "        else:\n",
    "            Pi_minus += projector\n",
    "\n",
    "    return Pi_plus, Pi_minus"
   ]
  },
  {
   "cell_type": "code",
   "execution_count": 9,
   "id": "a6f4409d",
   "metadata": {},
   "outputs": [],
   "source": [
    "#def simulate_one_measurement(rho_plus, rho_minus, Pi_plus, Pi_minus, M=1):\n",
    "#    \"\"\"\n",
    "#    Simulates a single measurement trial.\n",
    "#    Randomly selects one of the true states (equal priors), applies the M-copy Helstrom POVM,\n",
    "#    and returns the guessed label and true label.\n",
    "#    \"\"\"\n",
    "    # Choose true state randomly (equal priors)\n",
    "#    true_label = np.random.choice([+1, -1])\n",
    "\n",
    "    # Get the true state\n",
    "#    rho_true = rho_plus if true_label == +1 else rho_minus\n",
    "#    rho_true_M = state_copies(rho_true, M)\n",
    "\n",
    "    # Compute probabilities of each POVM outcome\n",
    "#    p_plus = np.real(np.trace(Pi_plus @ rho_true_M))\n",
    "#    p_minus = np.real(np.trace(Pi_minus @ rho_true_M))\n",
    "\n",
    "    # Sample outcome from probabilities\n",
    "#    outcome = np.random.choice([+1, -1], p=[p_plus, p_minus])\n",
    "\n",
    "#    return outcome, true_label\n"
   ]
  },
  {
   "cell_type": "code",
   "execution_count": null,
   "id": "3d70dd3e",
   "metadata": {},
   "outputs": [],
   "source": [
    "def simulate_majority_vote(rho_plus, rho_minus, Pi_plus, Pi_minus, N, M = 1):\n",
    "    \"\"\"\n",
    "    Simulates N independent single-copy measurements and returns whether\n",
    "    the majority vote is correct.\n",
    "    \"\"\"\n",
    "    # Choose one true label for all copies in this trial\n",
    "    true_label = np.random.choice([+1, -1])\n",
    "    rho_true = rho_plus if true_label == +1 else rho_minus\n",
    "\n",
    "    votes = []\n",
    "\n",
    "    for _ in range(N):\n",
    "        rho_true_M = state_copies(rho_true, M)\n",
    "        p_plus = np.real(np.trace(Pi_plus @ rho_true_M))\n",
    "        p_minus = np.real(np.trace(Pi_minus @ rho_true_M))\n",
    "        vote = np.random.choice([+1, -1], p=[p_plus, p_minus])\n",
    "        votes.append(vote)\n",
    "\n",
    "    vote_total = np.sum(votes)\n",
    "    guess = +1 if vote_total > 0 else -1  # Tie breaks to -1\n",
    "    is_correct = (guess == true_label)\n",
    "\n",
    "    return is_correct\n"
   ]
  },
  {
   "cell_type": "code",
   "execution_count": null,
   "id": "e65b3669",
   "metadata": {},
   "outputs": [],
   "source": [
    "def estimate_error_exponent(rho_plus, rho_minus, Pi_plus, Pi_minus, N, num_trials=10000, M = 1):\n",
    "    \"\"\"\n",
    "    Runs num_trials majority-vote simulations for N single-copy measurements.\n",
    "    Returns estimated error probability and error exponent ε_N = -log(Pe)/N\n",
    "    \"\"\"\n",
    "    num_errors = 0\n",
    "\n",
    "    for _ in range(num_trials):\n",
    "        correct = simulate_majority_vote(rho_plus, rho_minus, Pi_plus, Pi_minus, N, M)\n",
    "        if not correct:\n",
    "            num_errors += 1\n",
    "\n",
    "    P_err = num_errors / num_trials\n",
    "    if P_err == 0:\n",
    "        epsilon_N = np.inf  # perfect classification\n",
    "    else:\n",
    "        epsilon_N = -np.log(P_err) / N\n",
    "\n",
    "    return P_err, epsilon_N\n"
   ]
  },
  {
   "cell_type": "code",
   "execution_count": null,
   "id": "1a0b8927",
   "metadata": {},
   "outputs": [
    {
     "name": "stdout",
     "output_type": "stream",
     "text": [
      "N = 1 → P_err = 0.39780, ε_N = 0.92181\n",
      "N = 2 → P_err = 0.39390, ε_N = 0.46583\n",
      "N = 3 → P_err = 0.35670, ε_N = 0.34362\n",
      "N = 4 → P_err = 0.34380, ε_N = 0.26692\n",
      "N = 5 → P_err = 0.31920, ε_N = 0.22839\n",
      "N = 6 → P_err = 0.31700, ε_N = 0.19148\n",
      "N = 7 → P_err = 0.28110, ε_N = 0.18129\n",
      "N = 8 → P_err = 0.27910, ε_N = 0.15952\n",
      "N = 9 → P_err = 0.26630, ε_N = 0.14701\n",
      "N = 10 → P_err = 0.27020, ε_N = 0.13086\n",
      "N = 11 → P_err = 0.24500, ε_N = 0.12786\n",
      "N = 12 → P_err = 0.23990, ε_N = 0.11896\n"
     ]
    },
    {
     "ename": "KeyboardInterrupt",
     "evalue": "",
     "output_type": "error",
     "traceback": [
      "\u001b[0;31m---------------------------------------------------------------------------\u001b[0m",
      "\u001b[0;31mKeyboardInterrupt\u001b[0m                         Traceback (most recent call last)",
      "Cell \u001b[0;32mIn[12], line 8\u001b[0m\n\u001b[1;32m      5\u001b[0m set_of_eps_N \u001b[38;5;241m=\u001b[39m []\n\u001b[1;32m      7\u001b[0m \u001b[38;5;28;01mfor\u001b[39;00m N \u001b[38;5;129;01min\u001b[39;00m \u001b[38;5;28mrange\u001b[39m(\u001b[38;5;241m1\u001b[39m, \u001b[38;5;241m100\u001b[39m):\n\u001b[0;32m----> 8\u001b[0m     P_err, epsilon_N \u001b[38;5;241m=\u001b[39m \u001b[43mestimate_error_exponent\u001b[49m\u001b[43m(\u001b[49m\u001b[43mrho_plus\u001b[49m\u001b[43m,\u001b[49m\u001b[43m \u001b[49m\u001b[43mrho_minus\u001b[49m\u001b[43m,\u001b[49m\u001b[43m \u001b[49m\u001b[43mPi_plus\u001b[49m\u001b[43m,\u001b[49m\u001b[43m \u001b[49m\u001b[43mPi_minus\u001b[49m\u001b[43m,\u001b[49m\u001b[43m \u001b[49m\u001b[43mN\u001b[49m\u001b[43m,\u001b[49m\u001b[43m \u001b[49m\u001b[43mnum_trials\u001b[49m\u001b[38;5;241;43m=\u001b[39;49m\u001b[38;5;241;43m10000\u001b[39;49m\u001b[43m)\u001b[49m\n\u001b[1;32m      9\u001b[0m     \u001b[38;5;28mprint\u001b[39m(\u001b[38;5;124mf\u001b[39m\u001b[38;5;124m\"\u001b[39m\u001b[38;5;124mN = \u001b[39m\u001b[38;5;132;01m{\u001b[39;00mN\u001b[38;5;132;01m}\u001b[39;00m\u001b[38;5;124m → P_err = \u001b[39m\u001b[38;5;132;01m{\u001b[39;00mP_err\u001b[38;5;132;01m:\u001b[39;00m\u001b[38;5;124m.5f\u001b[39m\u001b[38;5;132;01m}\u001b[39;00m\u001b[38;5;124m, ε_N = \u001b[39m\u001b[38;5;132;01m{\u001b[39;00mepsilon_N\u001b[38;5;132;01m:\u001b[39;00m\u001b[38;5;124m.5f\u001b[39m\u001b[38;5;132;01m}\u001b[39;00m\u001b[38;5;124m\"\u001b[39m)\n\u001b[1;32m     10\u001b[0m     set_of_eps_N\u001b[38;5;241m.\u001b[39mappend(epsilon_N)\n",
      "Cell \u001b[0;32mIn[11], line 9\u001b[0m, in \u001b[0;36mestimate_error_exponent\u001b[0;34m(rho_plus, rho_minus, Pi_plus, Pi_minus, N, num_trials)\u001b[0m\n\u001b[1;32m      6\u001b[0m num_errors \u001b[38;5;241m=\u001b[39m \u001b[38;5;241m0\u001b[39m\n\u001b[1;32m      8\u001b[0m \u001b[38;5;28;01mfor\u001b[39;00m _ \u001b[38;5;129;01min\u001b[39;00m \u001b[38;5;28mrange\u001b[39m(num_trials):\n\u001b[0;32m----> 9\u001b[0m     correct \u001b[38;5;241m=\u001b[39m \u001b[43msimulate_majority_vote\u001b[49m\u001b[43m(\u001b[49m\u001b[43mrho_plus\u001b[49m\u001b[43m,\u001b[49m\u001b[43m \u001b[49m\u001b[43mrho_minus\u001b[49m\u001b[43m,\u001b[49m\u001b[43m \u001b[49m\u001b[43mPi_plus\u001b[49m\u001b[43m,\u001b[49m\u001b[43m \u001b[49m\u001b[43mPi_minus\u001b[49m\u001b[43m,\u001b[49m\u001b[43m \u001b[49m\u001b[43mN\u001b[49m\u001b[43m)\u001b[49m\n\u001b[1;32m     10\u001b[0m     \u001b[38;5;28;01mif\u001b[39;00m \u001b[38;5;129;01mnot\u001b[39;00m correct:\n\u001b[1;32m     11\u001b[0m         num_errors \u001b[38;5;241m+\u001b[39m\u001b[38;5;241m=\u001b[39m \u001b[38;5;241m1\u001b[39m\n",
      "Cell \u001b[0;32mIn[10], line 16\u001b[0m, in \u001b[0;36msimulate_majority_vote\u001b[0;34m(rho_plus, rho_minus, Pi_plus, Pi_minus, N)\u001b[0m\n\u001b[1;32m     14\u001b[0m     p_plus \u001b[38;5;241m=\u001b[39m np\u001b[38;5;241m.\u001b[39mreal(np\u001b[38;5;241m.\u001b[39mtrace(Pi_plus \u001b[38;5;241m@\u001b[39m rho_true_M))\n\u001b[1;32m     15\u001b[0m     p_minus \u001b[38;5;241m=\u001b[39m np\u001b[38;5;241m.\u001b[39mreal(np\u001b[38;5;241m.\u001b[39mtrace(Pi_minus \u001b[38;5;241m@\u001b[39m rho_true_M))\n\u001b[0;32m---> 16\u001b[0m     vote \u001b[38;5;241m=\u001b[39m \u001b[43mnp\u001b[49m\u001b[38;5;241;43m.\u001b[39;49m\u001b[43mrandom\u001b[49m\u001b[38;5;241;43m.\u001b[39;49m\u001b[43mchoice\u001b[49m\u001b[43m(\u001b[49m\u001b[43m[\u001b[49m\u001b[38;5;241;43m+\u001b[39;49m\u001b[38;5;241;43m1\u001b[39;49m\u001b[43m,\u001b[49m\u001b[43m \u001b[49m\u001b[38;5;241;43m-\u001b[39;49m\u001b[38;5;241;43m1\u001b[39;49m\u001b[43m]\u001b[49m\u001b[43m,\u001b[49m\u001b[43m \u001b[49m\u001b[43mp\u001b[49m\u001b[38;5;241;43m=\u001b[39;49m\u001b[43m[\u001b[49m\u001b[43mp_plus\u001b[49m\u001b[43m,\u001b[49m\u001b[43m \u001b[49m\u001b[43mp_minus\u001b[49m\u001b[43m]\u001b[49m\u001b[43m)\u001b[49m\n\u001b[1;32m     17\u001b[0m     votes\u001b[38;5;241m.\u001b[39mappend(vote)\n\u001b[1;32m     19\u001b[0m vote_total \u001b[38;5;241m=\u001b[39m np\u001b[38;5;241m.\u001b[39msum(votes)\n",
      "\u001b[0;31mKeyboardInterrupt\u001b[0m: "
     ]
    }
   ],
   "source": [
    "v = 0.8\n",
    "rho_plus, rho_minus = simple_qubit_example(0.8, pauli_matrices('z'))\n",
    "Pi_plus, Pi_minus = get_helstrom_povm_multicopy(rho_plus, rho_minus, M=1)\n",
    "set_of_P_err = []\n",
    "set_of_eps_N = []\n",
    "\n",
    "for N in range(1, 100):\n",
    "    P_err, epsilon_N = estimate_error_exponent(rho_plus, rho_minus, Pi_plus, Pi_minus, N, num_trials=10000, M = 1)\n",
    "    print(f\"N = {N} → P_err = {P_err:.5f}, ε_N = {epsilon_N:.5f}\")\n",
    "    set_of_eps_N.append(epsilon_N)\n",
    "    set_of_P_err.append(P_err)\n"
   ]
  },
  {
   "cell_type": "code",
   "execution_count": null,
   "id": "e740b752",
   "metadata": {},
   "outputs": [
    {
     "data": {
      "image/png": "[encoded data removed]",
      "text/plain": [
       "<Figure size 640x480 with 1 Axes>"
      ]
     },
     "metadata": {},
     "output_type": "display_data"
    }
   ],
   "source": [
    "\n",
    "# Assume set_of_eps_N is a list of ε_N for N = 1 to 999\n",
    "Ns = list(range(1, 100))  # N starts at 1\n",
    "\n",
    "plt.plot(Ns, set_of_eps_N, label=\"Empirical ε_N\")\n",
    "plt.axhline(y=chernoff_error_exponent(rho0, rho1), color='r', linestyle='--', label='Chernoff Bound')\n",
    "plt.xlabel(\"Number of Copies N\")\n",
    "plt.ylabel(\"Error Exponent ε_N\")\n",
    "plt.title(\"Error Exponent from Majority Vote vs Chernoff Bound\")\n",
    "plt.legend()\n",
    "plt.grid(True)\n",
    "plt.show()\n"
   ]
  },
  {
   "cell_type": "code",
   "execution_count": 47,
   "id": "c1b91e0a",
   "metadata": {},
   "outputs": [
    {
     "name": "stdout",
     "output_type": "stream",
     "text": [
      "odd : 0.13220058712375288\n",
      "even : 0.18714568515332602\n",
      "odd : 0.4226593781006161\n",
      "even : 0.48656283431334685\n",
      "odd : 0.5662914041196315\n",
      "even : 1.1482227892214443\n",
      "odd : 1.2542140207626828\n",
      "even : 1.2269003089696406\n",
      "odd : 1.2942622756733968\n"
     ]
    },
    {
     "ename": "KeyboardInterrupt",
     "evalue": "",
     "output_type": "error",
     "traceback": [
      "\u001b[0;31m---------------------------------------------------------------------------\u001b[0m",
      "\u001b[0;31mKeyboardInterrupt\u001b[0m                         Traceback (most recent call last)",
      "Cell \u001b[0;32mIn[47], line 11\u001b[0m\n\u001b[1;32m      9\u001b[0m Pi_plus, Pi_minus \u001b[38;5;241m=\u001b[39m get_helstrom_povm_multicopy(rho_plus, rho_minus, M\u001b[38;5;241m=\u001b[39mM)\n\u001b[1;32m     10\u001b[0m \u001b[38;5;28;01mif\u001b[39;00m M \u001b[38;5;241m%\u001b[39m \u001b[38;5;241m2\u001b[39m \u001b[38;5;241m==\u001b[39m \u001b[38;5;241m0\u001b[39m:\n\u001b[0;32m---> 11\u001b[0m     _, epsilon_M \u001b[38;5;241m=\u001b[39m \u001b[43mestimate_error_exponent\u001b[49m\u001b[43m(\u001b[49m\u001b[43mrho_plus_M\u001b[49m\u001b[43m,\u001b[49m\u001b[43m \u001b[49m\u001b[43mrho_minus_M\u001b[49m\u001b[43m,\u001b[49m\u001b[43m \u001b[49m\u001b[43mPi_plus\u001b[49m\u001b[43m,\u001b[49m\u001b[43m \u001b[49m\u001b[43mPi_minus\u001b[49m\u001b[43m,\u001b[49m\u001b[43m \u001b[49m\u001b[38;5;28;43mint\u001b[39;49m\u001b[43m(\u001b[49m\u001b[43mN\u001b[49m\u001b[38;5;241;43m/\u001b[39;49m\u001b[43mM\u001b[49m\u001b[43m)\u001b[49m\u001b[43m,\u001b[49m\u001b[43m \u001b[49m\u001b[43mnum_trials\u001b[49m\u001b[38;5;241;43m=\u001b[39;49m\u001b[38;5;241;43m10000\u001b[39;49m\u001b[43m)\u001b[49m\n\u001b[1;32m     12\u001b[0m     \u001b[38;5;28mprint\u001b[39m(\u001b[38;5;124mf\u001b[39m\u001b[38;5;124m'\u001b[39m\u001b[38;5;124meven : \u001b[39m\u001b[38;5;132;01m{\u001b[39;00mepsilon_M\u001b[38;5;132;01m}\u001b[39;00m\u001b[38;5;124m'\u001b[39m)\n\u001b[1;32m     13\u001b[0m     set_of_eps_even_M\u001b[38;5;241m.\u001b[39mappend(epsilon_M)\n",
      "Cell \u001b[0;32mIn[11], line 9\u001b[0m, in \u001b[0;36mestimate_error_exponent\u001b[0;34m(rho_plus, rho_minus, Pi_plus, Pi_minus, N, num_trials)\u001b[0m\n\u001b[1;32m      6\u001b[0m num_errors \u001b[38;5;241m=\u001b[39m \u001b[38;5;241m0\u001b[39m\n\u001b[1;32m      8\u001b[0m \u001b[38;5;28;01mfor\u001b[39;00m _ \u001b[38;5;129;01min\u001b[39;00m \u001b[38;5;28mrange\u001b[39m(num_trials):\n\u001b[0;32m----> 9\u001b[0m     correct \u001b[38;5;241m=\u001b[39m \u001b[43msimulate_majority_vote\u001b[49m\u001b[43m(\u001b[49m\u001b[43mrho_plus\u001b[49m\u001b[43m,\u001b[49m\u001b[43m \u001b[49m\u001b[43mrho_minus\u001b[49m\u001b[43m,\u001b[49m\u001b[43m \u001b[49m\u001b[43mPi_plus\u001b[49m\u001b[43m,\u001b[49m\u001b[43m \u001b[49m\u001b[43mPi_minus\u001b[49m\u001b[43m,\u001b[49m\u001b[43m \u001b[49m\u001b[43mN\u001b[49m\u001b[43m)\u001b[49m\n\u001b[1;32m     10\u001b[0m     \u001b[38;5;28;01mif\u001b[39;00m \u001b[38;5;129;01mnot\u001b[39;00m correct:\n\u001b[1;32m     11\u001b[0m         num_errors \u001b[38;5;241m+\u001b[39m\u001b[38;5;241m=\u001b[39m \u001b[38;5;241m1\u001b[39m\n",
      "Cell \u001b[0;32mIn[10], line 14\u001b[0m, in \u001b[0;36msimulate_majority_vote\u001b[0;34m(rho_plus, rho_minus, Pi_plus, Pi_minus, N)\u001b[0m\n\u001b[1;32m     12\u001b[0m \u001b[38;5;28;01mfor\u001b[39;00m _ \u001b[38;5;129;01min\u001b[39;00m \u001b[38;5;28mrange\u001b[39m(N):\n\u001b[1;32m     13\u001b[0m     rho_true_M \u001b[38;5;241m=\u001b[39m state_copies(rho_true, M\u001b[38;5;241m=\u001b[39m\u001b[38;5;241m1\u001b[39m)\n\u001b[0;32m---> 14\u001b[0m     p_plus \u001b[38;5;241m=\u001b[39m np\u001b[38;5;241m.\u001b[39mreal(np\u001b[38;5;241m.\u001b[39mtrace(\u001b[43mPi_plus\u001b[49m\u001b[43m \u001b[49m\u001b[38;5;241;43m@\u001b[39;49m\u001b[43m \u001b[49m\u001b[43mrho_true_M\u001b[49m))\n\u001b[1;32m     15\u001b[0m     p_minus \u001b[38;5;241m=\u001b[39m np\u001b[38;5;241m.\u001b[39mreal(np\u001b[38;5;241m.\u001b[39mtrace(Pi_minus \u001b[38;5;241m@\u001b[39m rho_true_M))\n\u001b[1;32m     16\u001b[0m     vote \u001b[38;5;241m=\u001b[39m np\u001b[38;5;241m.\u001b[39mrandom\u001b[38;5;241m.\u001b[39mchoice([\u001b[38;5;241m+\u001b[39m\u001b[38;5;241m1\u001b[39m, \u001b[38;5;241m-\u001b[39m\u001b[38;5;241m1\u001b[39m], p\u001b[38;5;241m=\u001b[39m[p_plus, p_minus])\n",
      "\u001b[0;31mKeyboardInterrupt\u001b[0m: "
     ]
    }
   ],
   "source": [
    "\n",
    "set_of_eps_even_M = []\n",
    "set_of_eps_odd_M = []\n",
    "rho_plus, rho_minus = simple_qubit_example(0.8, pauli_matrices('z'))\n",
    "N = 10\n",
    "\n",
    "for M in range(1, 100):\n",
    "    rho_plus_M = state_copies(rho_plus, M)\n",
    "    rho_minus_M = state_copies(rho_minus, M)\n",
    "    Pi_plus, Pi_minus = get_helstrom_povm_multicopy(rho_plus, rho_minus, M=M)\n",
    "    if M % 2 == 0:\n",
    "        _, epsilon_M = estimate_error_exponent(rho_plus_M, rho_minus_M, Pi_plus, Pi_minus, int(N/M), num_trials=10000)\n",
    "        print(f'even : {epsilon_M}')\n",
    "        set_of_eps_even_M.append(epsilon_M)\n",
    "    elif M % 2 != 0:\n",
    "        _, epsilon_M = estimate_error_exponent(rho_plus_M, rho_minus_M, Pi_plus, Pi_minus, int(np.rint(N/M)), num_trials=10000)\n",
    "        print(f'odd : {epsilon_M}')\n",
    "        set_of_eps_odd_M.append(epsilon_M)\n",
    "        "
   ]
  },
  {
   "cell_type": "code",
   "execution_count": null,
   "id": "25d18fa8",
   "metadata": {},
   "outputs": [],
   "source": []
  },
  {
   "cell_type": "code",
   "execution_count": null,
   "id": "f1e7d036",
   "metadata": {},
   "outputs": [
    {
     "data": {
      "text/plain": [
       "[np.float64(0.18745180766207029),\n",
       " np.float64(0.4768665136750126),\n",
       " np.float64(1.1488535051048565),\n",
       " np.float64(1.2461846531352454)]"
      ]
     },
     "execution_count": 43,
     "metadata": {},
     "output_type": "execute_result"
    }
   ],
   "source": [
    "set_of_eps_even_M"
   ]
  },
  {
   "cell_type": "code",
   "execution_count": null,
   "id": "1864bc4f",
   "metadata": {},
   "outputs": [],
   "source": []
  }
 ],
 "metadata": {
  "kernelspec": {
   "display_name": ".venv",
   "language": "python",
   "name": "python3"
  },
  "language_info": {
   "codemirror_mode": {
    "name": "ipython",
    "version": 3
   },
   "file_extension": ".py",
   "mimetype": "text/x-python",
   "name": "python",
   "nbconvert_exporter": "python",
   "pygments_lexer": "ipython3",
   "version": "3.9.6"
  }
 },
 "nbformat": 4,
 "nbformat_minor": 5
}
