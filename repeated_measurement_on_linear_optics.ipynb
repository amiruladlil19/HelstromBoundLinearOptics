{
 "cells": [
  {
   "cell_type": "code",
   "execution_count": 12,
   "id": "683708a5",
   "metadata": {},
   "outputs": [],
   "source": [
    "import numpy as np\n",
    "import matplotlib.pyplot as plt\n",
    "from scipy.linalg import fractional_matrix_power\n",
    "from scipy.optimize import minimize_scalar, minimize\n",
    "\n",
    "def helstrom_operator(q0, rho0, rho1):\n",
    "    return q0*rho0 - (1-q0)*rho1"
   ]
  },
  {
   "cell_type": "code",
   "execution_count": 94,
   "id": "e194acf0",
   "metadata": {},
   "outputs": [],
   "source": [
    "def pauli_matrices(string):\n",
    "    if string == 'x':\n",
    "        return np.array([[0, 1], [1, 0]])\n",
    "    elif string == 'y':\n",
    "        return np.array([[0, -1j], [1j,0]])\n",
    "    elif string == 'z':\n",
    "        return np.array([[1, 0], [0, -1]])\n",
    "\n",
    "def identity_matrix(n):\n",
    "    return np.identity(n)"
   ]
  },
  {
   "cell_type": "code",
   "execution_count": 104,
   "id": "1597bb95",
   "metadata": {},
   "outputs": [],
   "source": [
    "def simple_qubit_example(nu, pauli_matrix):\n",
    "    i2 = identity_matrix(2)\n",
    "    rho0 = (i2 + (1-nu)*pauli_matrix)/2\n",
    "    rho1 = (i2 - (1-nu)*pauli_matrix)/2\n",
    "    return rho0, rho1\n",
    "\n",
    "def more_complex_qubit_example(nu):\n",
    "    i2 = np.eye(2)\n",
    "    rho0 = (i2 + (1 - nu)*(pauli_matrices('y')*np.sin(np.pi/4) + pauli_matrices('z')*np.cos(np.pi/4)))/2\n",
    "    rho1 = (i2 + (1 - nu)*(pauli_matrices('y')*np.sin(np.pi/4) - pauli_matrices('z')*np.cos(np.pi/4)))/2\n",
    "    return rho0, rho1\n",
    "\n",
    "def nontrivial_mixed_qubit_states(nu):\n",
    "    \"\"\"\n",
    "    Return a nontrivial pair of mixed qubit states with non-parallel Bloch vectors.\n",
    "\n",
    "    Parameters:\n",
    "        nu (float): controls the degree of mixedness, 0 <= nu <= 1\n",
    "\n",
    "    Returns:\n",
    "        rho0, rho1 (2x2 np.array): two valid qubit density matrices\n",
    "    \"\"\"\n",
    "    # Ensure nu ∈ [0, 1]\n",
    "    assert 0 <= nu <= 1\n",
    "\n",
    "    # Use normalized but distinct Bloch directions\n",
    "    r0 = (1 - nu) * np.array([0.6, 0.6, 0.3])  # not aligned with axes\n",
    "    r1 = (1 - nu) * np.array([-0.2, 0.7, -0.6])  # tilted differently\n",
    "\n",
    "    # Build rho = 1/2 * (I + r · σ)\n",
    "    I = np.eye(2)\n",
    "\n",
    "    def bloch_to_rho(r):\n",
    "        return 0.5 * (I + r[0]*pauli_matrices('x') + r[1]*pauli_matrices('y') + r[2]*pauli_matrices('z'))\n",
    "\n",
    "    rho0 = bloch_to_rho(r0)\n",
    "    rho1 = bloch_to_rho(r1)\n",
    "\n",
    "    return rho0, rho1\n"
   ]
  },
  {
   "cell_type": "code",
   "execution_count": 118,
   "id": "398ed6b6",
   "metadata": {},
   "outputs": [],
   "source": [
    "def random_qubit_pure_state():\n",
    "    \"\"\"\n",
    "    Generate a random qubit pure state |ψ⟩ = cos(θ/2)|0⟩ + e^{iφ}sin(θ/2)|1⟩\n",
    "    \"\"\"\n",
    "    theta = 2 * np.arccos(np.sqrt(np.random.rand()))\n",
    "    phi = 2 * np.pi * np.random.rand()\n",
    "    return np.array([\n",
    "        np.cos(theta / 2),\n",
    "        np.exp(1j * phi) * np.sin(theta / 2)\n",
    "    ])\n",
    "\n",
    "def mixture_of_pure_states(num_pure_states=3):\n",
    "    \"\"\"\n",
    "    Generate a random mixed qubit state as a convex combination of random pure states.\n",
    "    \"\"\"\n",
    "    probs = np.random.rand(num_pure_states)\n",
    "    probs /= np.sum(probs)\n",
    "\n",
    "    rho = np.zeros((2, 2), dtype=np.complex128)\n",
    "    for p in probs:\n",
    "        psi = random_qubit_pure_state()\n",
    "        rho += p * np.outer(psi, psi.conj())\n",
    "    return rho\n",
    "\n",
    "def generate_mixed_state_pair(n=200, m=200):\n",
    "    \"\"\"\n",
    "    Generate a pair of mixed qubit states from classical mixtures over pure states.\n",
    "\n",
    "    Parameters:\n",
    "        n, m: number of pure states to mix for rho0 and rho1 respectively.\n",
    "\n",
    "    Returns:\n",
    "        rho0, rho1: two 2x2 density matrices\n",
    "    \"\"\"\n",
    "    rho0 = mixture_of_pure_states(n)\n",
    "    rho1 = mixture_of_pure_states(m)\n",
    "    return rho0, rho1\n"
   ]
  },
  {
   "cell_type": "code",
   "execution_count": 47,
   "id": "ed907cc2",
   "metadata": {},
   "outputs": [],
   "source": [
    "def func_for_POVM(gamma, mu, nu, xi, eps, theta, phi):\n",
    "    U = np.exp(1j * gamma) * np.array([\n",
    "        [np.exp(1j * mu) * np.cos(xi),     np.exp(1j * nu) * np.sin(xi)],\n",
    "        [-np.exp(-1j * nu) * np.sin(xi),   np.exp(-1j * mu) * np.cos(xi)]\n",
    "    ], dtype=np.complex128)\n",
    "    D = np.array([\n",
    "        [np.exp(1j * eps) * np.cos(theta), 0],\n",
    "        [0, np.cos(phi)]\n",
    "    ], dtype=np.complex128)\n",
    "    F0 = U.conj().T @ D @ D @ U\n",
    "    F0 = (F0 + F0.conj().T) / 2\n",
    "    F1 = identity_matrix(2) - F0\n",
    "    return F0, F1"
   ]
  },
  {
   "cell_type": "code",
   "execution_count": 71,
   "id": "cc3bfc4e",
   "metadata": {},
   "outputs": [],
   "source": [
    "\n",
    "def minimum_error_probability(rho0, rho1, q, num_restarts=50):\n",
    "    def objective(x):\n",
    "        gamma, mu, nu, xi, eps, theta, phi = x\n",
    "\n",
    "        # Construct U\n",
    "        U = np.exp(1j * gamma) * np.array([\n",
    "            [np.exp(1j * mu) * np.cos(xi),     np.exp(1j * nu) * np.sin(xi)],\n",
    "            [-np.exp(-1j * nu) * np.sin(xi),   np.exp(-1j * mu) * np.cos(xi)]\n",
    "        ], dtype=np.complex128)\n",
    "\n",
    "        # Construct D\n",
    "        D = np.array([\n",
    "            [np.exp(1j * eps) * np.cos(theta), 0],\n",
    "            [0, np.cos(phi)]\n",
    "        ], dtype=np.complex128)\n",
    "\n",
    "        # Construct F0\n",
    "        F0 = U.conj().T @ D @ D @ U\n",
    "        F0 = (F0 + F0.conj().T) / 2  # enforce Hermiticity\n",
    "\n",
    "        # Penalize if F0 has negative eigenvalues\n",
    "        eigvals = np.linalg.eigvalsh(F0)\n",
    "        if np.any(eigvals < -1e-10):  # allow tiny negative values due to rounding\n",
    "            return 1e6  # Penalize hard\n",
    "\n",
    "        # Compute cost\n",
    "        delta = q * rho0 - (1 - q) * rho1\n",
    "        val = np.trace(delta @ F0).real\n",
    "\n",
    "        if not np.isfinite(val):\n",
    "            return 1e6  # Penalize invalid result\n",
    "\n",
    "        return q - val\n",
    "\n",
    "    bounds = [\n",
    "        (0, 2*np.pi),   # gamma\n",
    "        (0, 2*np.pi),   # mu\n",
    "        (0, 2*np.pi),   # nu\n",
    "        (0, 0.5*np.pi), # xi\n",
    "        (0, 2*np.pi),   # eps\n",
    "        (0, 0.5*np.pi), # theta\n",
    "        (0, 0.5*np.pi)  # phi\n",
    "    ]\n",
    "\n",
    "    best_fun = float('inf')\n",
    "    best_x = None\n",
    "    best_res = None\n",
    "\n",
    "    for _ in range(num_restarts):\n",
    "        x0 = np.random.uniform([b[0] for b in bounds], [b[1] for b in bounds])\n",
    "        res = minimize(objective, x0=x0, bounds=bounds, method='L-BFGS-B')\n",
    "\n",
    "        if res.success and res.fun < best_fun:\n",
    "            best_fun = res.fun\n",
    "            best_x = res.x\n",
    "            best_res = res\n",
    "\n",
    "    if best_res is None:\n",
    "        raise RuntimeError(\"All optimization attempts failed.\")\n",
    "\n",
    "    return best_fun, best_x\n"
   ]
  },
  {
   "cell_type": "code",
   "execution_count": 72,
   "id": "aac975be",
   "metadata": {},
   "outputs": [],
   "source": [
    "rho0, rho1 = simple_qubit_example(0.8, pauli_matrices('z'))"
   ]
  },
  {
   "cell_type": "code",
   "execution_count": 73,
   "id": "b1641e0c",
   "metadata": {},
   "outputs": [],
   "source": [
    "cost, angles = minimum_error_probability(rho0, rho1, 1/2)"
   ]
  },
  {
   "cell_type": "code",
   "execution_count": 74,
   "id": "dcff8c2d",
   "metadata": {},
   "outputs": [
    {
     "data": {
      "text/plain": [
       "array([3.33690077, 3.23489355, 2.49027311, 0.        , 0.        ,\n",
       "       0.        , 1.57079633])"
      ]
     },
     "execution_count": 74,
     "metadata": {},
     "output_type": "execute_result"
    }
   ],
   "source": [
    "angles"
   ]
  },
  {
   "cell_type": "code",
   "execution_count": 75,
   "id": "8cf068e2",
   "metadata": {},
   "outputs": [
    {
     "data": {
      "text/plain": [
       "np.float64(0.4)"
      ]
     },
     "execution_count": 75,
     "metadata": {},
     "output_type": "execute_result"
    }
   ],
   "source": [
    "cost"
   ]
  },
  {
   "cell_type": "code",
   "execution_count": 76,
   "id": "32f48955",
   "metadata": {},
   "outputs": [
    {
     "data": {
      "text/plain": [
       "array([[1.+0.j, 0.+0.j],\n",
       "       [0.+0.j, 1.+0.j]])"
      ]
     },
     "execution_count": 76,
     "metadata": {},
     "output_type": "execute_result"
    }
   ],
   "source": [
    "E0, E1 = func_for_POVM(*angles)\n",
    "E0 + E1"
   ]
  },
  {
   "cell_type": "code",
   "execution_count": 77,
   "id": "975d9619",
   "metadata": {},
   "outputs": [
    {
     "data": {
      "text/plain": [
       "array([[1.00000000e+00+0.j, 0.00000000e+00+0.j],\n",
       "       [0.00000000e+00+0.j, 3.74939946e-33+0.j]])"
      ]
     },
     "execution_count": 77,
     "metadata": {},
     "output_type": "execute_result"
    }
   ],
   "source": [
    "E0"
   ]
  },
  {
   "cell_type": "code",
   "execution_count": 78,
   "id": "d9fb867b",
   "metadata": {},
   "outputs": [
    {
     "data": {
      "text/plain": [
       "array([[-2.22044605e-16+0.j,  0.00000000e+00+0.j],\n",
       "       [ 0.00000000e+00+0.j,  1.00000000e+00+0.j]])"
      ]
     },
     "execution_count": 78,
     "metadata": {},
     "output_type": "execute_result"
    }
   ],
   "source": [
    "E1"
   ]
  },
  {
   "cell_type": "code",
   "execution_count": 69,
   "id": "0cfe7a1f",
   "metadata": {},
   "outputs": [],
   "source": [
    "def is_valid_povm(povm_set, tol=1e-10):\n",
    "    \"\"\"\n",
    "    Check if a list of matrices forms a valid POVM.\n",
    "    \n",
    "    Parameters:\n",
    "        povm_set: list of numpy arrays (POVM elements)\n",
    "        tol: numerical tolerance for equality checks\n",
    "        \n",
    "    Returns:\n",
    "        True if the set is a valid POVM, False otherwise\n",
    "    \"\"\"\n",
    "    d = povm_set[0].shape[0]\n",
    "    \n",
    "    # 1. Check Hermiticity and Positive Semidefiniteness\n",
    "    for i, E in enumerate(povm_set):\n",
    "        if not np.allclose(E, E.conj().T, atol=tol):\n",
    "            print(f\"Operator E[{i}] is not Hermitian.\")\n",
    "            return False\n",
    "\n",
    "        # Check all eigenvalues are >= 0\n",
    "        eigvals = np.linalg.eigvalsh(E)\n",
    "        if np.any(eigvals < -tol):\n",
    "            print(f\"Operator E[{i}] has negative eigenvalues: {eigvals}\")\n",
    "            return False\n",
    "\n",
    "    # 2. Check completeness: sum_i E_i = I\n",
    "    total = sum(povm_set)\n",
    "    if not np.allclose(total, np.eye(d), atol=tol):\n",
    "        print(\"Sum of POVM elements is not the identity.\")\n",
    "        return False\n",
    "\n",
    "    return True"
   ]
  },
  {
   "cell_type": "code",
   "execution_count": 70,
   "id": "76d6d008",
   "metadata": {},
   "outputs": [
    {
     "data": {
      "text/plain": [
       "True"
      ]
     },
     "execution_count": 70,
     "metadata": {},
     "output_type": "execute_result"
    }
   ],
   "source": [
    "is_valid_povm([E0, E1])"
   ]
  },
  {
   "cell_type": "code",
   "execution_count": 83,
   "id": "af161350",
   "metadata": {},
   "outputs": [],
   "source": [
    "def state_copies(rho, M):\n",
    "    result = rho\n",
    "    for _ in range(M-1):\n",
    "        result = np.kron(result, rho)\n",
    "    return result"
   ]
  },
  {
   "cell_type": "code",
   "execution_count": 111,
   "id": "aed56133",
   "metadata": {},
   "outputs": [],
   "source": [
    "def helstrom_bound(q, rho0, rho1):\n",
    "    delta = q * rho0 - (1 - q) * rho1\n",
    "    eigvals = np.linalg.eigvalsh(delta)  # Hermitian, so use eigvalsh\n",
    "    trace_norm = np.sum(np.abs(eigvals))  # trace norm = sum of abs eigenvalues\n",
    "    return 0.5 * (1 - trace_norm)\n"
   ]
  },
  {
   "cell_type": "code",
   "execution_count": 54,
   "id": "8208758e",
   "metadata": {},
   "outputs": [
    {
     "data": {
      "text/plain": [
       "np.float64(0.4292893218813453)"
      ]
     },
     "execution_count": 54,
     "metadata": {},
     "output_type": "execute_result"
    }
   ],
   "source": [
    "helstrom_bound(1/2, rho0, rho1)"
   ]
  },
  {
   "cell_type": "code",
   "execution_count": 79,
   "id": "29597fbb",
   "metadata": {},
   "outputs": [],
   "source": [
    "def chernoff_error_exponent(rho0, rho1):\n",
    "    def chernoff_coefficient(s):\n",
    "        product = np.dot(fractional_matrix_power(rho0, s), fractional_matrix_power(rho1, 1-s))\n",
    "        return np.real(np.trace(product))\n",
    "\n",
    "    res = minimize_scalar(chernoff_coefficient, bounds=(0,1), method='bounded')\n",
    "\n",
    "    if not res.success:\n",
    "        raise RuntimeError(\"Minimization Failed\")\n",
    "\n",
    "    c_opt = res.fun\n",
    "    return -np.log(c_opt)"
   ]
  },
  {
   "cell_type": "code",
   "execution_count": 8,
   "id": "032fdd3c",
   "metadata": {},
   "outputs": [],
   "source": [
    "def get_helstrom_povm_multicopy(rho_plus: np.ndarray, rho_minus: np.ndarray, M: int = 1):\n",
    "    \"\"\"\n",
    "    Returns the Helstrom POVM (Pi_plus, Pi_minus) for M-copy discrimination between\n",
    "    rho_plus and rho_minus (equal priors assumed).\n",
    "\n",
    "    Requires: state_copies(rho, M)\n",
    "    \"\"\"\n",
    "    # Use user-defined Kronecker power function\n",
    "    rho_plus_M = state_copies(rho_plus, M)\n",
    "    rho_minus_M = state_copies(rho_minus, M)\n",
    "\n",
    "    # Helstrom operator: delta = q * rho_plus_M - (1 - q) * rho_minus_M with q = 1/2\n",
    "    delta = 0.5 * (rho_plus_M - rho_minus_M)\n",
    "\n",
    "    eigvals, eigvecs = np.linalg.eigh(delta)\n",
    "\n",
    "    # Construct POVM elements from eigenvectors\n",
    "    Pi_plus = np.zeros_like(delta)\n",
    "    Pi_minus = np.zeros_like(delta)\n",
    "\n",
    "    for i in range(len(eigvals)):\n",
    "        projector = np.outer(eigvecs[:, i], eigvecs[:, i])\n",
    "        if eigvals[i] > 0:\n",
    "            Pi_plus += projector\n",
    "        else:\n",
    "            Pi_minus += projector\n",
    "\n",
    "    return Pi_plus, Pi_minus"
   ]
  },
  {
   "cell_type": "code",
   "execution_count": 9,
   "id": "a6f4409d",
   "metadata": {},
   "outputs": [],
   "source": [
    "#def simulate_one_measurement(rho_plus, rho_minus, Pi_plus, Pi_minus, M=1):\n",
    "#    \"\"\"\n",
    "#    Simulates a single measurement trial.\n",
    "#    Randomly selects one of the true states (equal priors), applies the M-copy Helstrom POVM,\n",
    "#    and returns the guessed label and true label.\n",
    "#    \"\"\"\n",
    "    # Choose true state randomly (equal priors)\n",
    "#    true_label = np.random.choice([+1, -1])\n",
    "\n",
    "    # Get the true state\n",
    "#    rho_true = rho_plus if true_label == +1 else rho_minus\n",
    "#    rho_true_M = state_copies(rho_true, M)\n",
    "\n",
    "    # Compute probabilities of each POVM outcome\n",
    "#    p_plus = np.real(np.trace(Pi_plus @ rho_true_M))\n",
    "#    p_minus = np.real(np.trace(Pi_minus @ rho_true_M))\n",
    "\n",
    "    # Sample outcome from probabilities\n",
    "#    outcome = np.random.choice([+1, -1], p=[p_plus, p_minus])\n",
    "\n",
    "#    return outcome, true_label\n"
   ]
  },
  {
   "cell_type": "code",
   "execution_count": 84,
   "id": "3d70dd3e",
   "metadata": {},
   "outputs": [],
   "source": [
    "def simulate_majority_vote(rho_plus, rho_minus, Pi_plus, Pi_minus, N, M=1):\n",
    "    \"\"\"\n",
    "    Simulates N independent single-copy measurements and returns whether\n",
    "    the majority vote is correct.\n",
    "    \"\"\"\n",
    "    # Choose one true label for all copies in this trial\n",
    "    true_label = np.random.choice([+1, -1])\n",
    "    rho_true = rho_plus if true_label == +1 else rho_minus\n",
    "\n",
    "    votes = []\n",
    "\n",
    "    for _ in range(N):\n",
    "        rho_true_M = state_copies(rho_true, M)\n",
    "        p_plus = np.real(np.trace(Pi_plus @ rho_true_M))\n",
    "        p_minus = np.real(np.trace(Pi_minus @ rho_true_M))\n",
    "        vote = np.random.choice([+1, -1], p=[p_plus, p_minus])\n",
    "        votes.append(vote)\n",
    "\n",
    "    vote_total = np.sum(votes)\n",
    "    guess = +1 if vote_total > 0 else -1  # Tie breaks to -1\n",
    "    is_correct = (guess == true_label)\n",
    "\n",
    "    return is_correct\n"
   ]
  },
  {
   "cell_type": "code",
   "execution_count": 85,
   "id": "e65b3669",
   "metadata": {},
   "outputs": [],
   "source": [
    "def estimate_error_exponent(rho_plus, rho_minus, Pi_plus, Pi_minus, N, num_trials=10000, M=1):\n",
    "    \"\"\"\n",
    "    Runs num_trials majority-vote simulations for N single-copy measurements.\n",
    "    Returns estimated error probability and error exponent ε_N = -log(Pe)/N\n",
    "    \"\"\"\n",
    "    num_errors = 0\n",
    "\n",
    "    for _ in range(num_trials):\n",
    "        correct = simulate_majority_vote(rho_plus, rho_minus, Pi_plus, Pi_minus, N, M)\n",
    "        if not correct:\n",
    "            num_errors += 1\n",
    "\n",
    "    P_err = num_errors / num_trials\n",
    "    if P_err == 0:\n",
    "        epsilon_N = np.inf  # perfect classification\n",
    "    else:\n",
    "        epsilon_N = -np.log(P_err) / N\n",
    "\n",
    "    return P_err, epsilon_N\n"
   ]
  },
  {
   "cell_type": "code",
   "execution_count": 90,
   "id": "1a0b8927",
   "metadata": {},
   "outputs": [
    {
     "name": "stdout",
     "output_type": "stream",
     "text": [
      "N = 1 → P_err = 0.40130, ε_N = 0.91305\n",
      "N = 2 → P_err = 0.39870, ε_N = 0.45977\n",
      "N = 3 → P_err = 0.34940, ε_N = 0.35051\n",
      "N = 4 → P_err = 0.35170, ε_N = 0.26124\n",
      "N = 5 → P_err = 0.31880, ε_N = 0.22864\n",
      "N = 6 → P_err = 0.32600, ε_N = 0.18681\n",
      "N = 7 → P_err = 0.28860, ε_N = 0.17753\n",
      "N = 8 → P_err = 0.29290, ε_N = 0.15349\n",
      "N = 9 → P_err = 0.26490, ε_N = 0.14760\n",
      "N = 10 → P_err = 0.27010, ε_N = 0.13090\n",
      "N = 11 → P_err = 0.24550, ε_N = 0.12768\n",
      "N = 12 → P_err = 0.24750, ε_N = 0.11636\n",
      "N = 13 → P_err = 0.23170, ε_N = 0.11249\n",
      "N = 14 → P_err = 0.23580, ε_N = 0.10320\n",
      "N = 15 → P_err = 0.21050, ε_N = 0.10388\n",
      "N = 16 → P_err = 0.20380, ε_N = 0.09941\n",
      "N = 17 → P_err = 0.19460, ε_N = 0.09628\n",
      "N = 18 → P_err = 0.20480, ε_N = 0.08810\n",
      "N = 19 → P_err = 0.18500, ε_N = 0.08881\n",
      "N = 20 → P_err = 0.19080, ε_N = 0.08283\n",
      "N = 21 → P_err = 0.17640, ε_N = 0.08262\n",
      "N = 22 → P_err = 0.17410, ε_N = 0.07946\n",
      "N = 23 → P_err = 0.16290, ε_N = 0.07890\n",
      "N = 24 → P_err = 0.15830, ε_N = 0.07680\n",
      "N = 25 → P_err = 0.15640, ε_N = 0.07421\n",
      "N = 26 → P_err = 0.14680, ε_N = 0.07380\n",
      "N = 27 → P_err = 0.14570, ε_N = 0.07134\n",
      "N = 28 → P_err = 0.15100, ε_N = 0.06752\n",
      "N = 29 → P_err = 0.13540, ε_N = 0.06895\n",
      "N = 30 → P_err = 0.13860, ε_N = 0.06587\n",
      "N = 31 → P_err = 0.12930, ε_N = 0.06599\n",
      "N = 32 → P_err = 0.12490, ε_N = 0.06501\n",
      "N = 33 → P_err = 0.11370, ε_N = 0.06588\n",
      "N = 34 → P_err = 0.11990, ε_N = 0.06239\n",
      "N = 35 → P_err = 0.11520, ε_N = 0.06175\n",
      "N = 36 → P_err = 0.11350, ε_N = 0.06044\n",
      "N = 37 → P_err = 0.10440, ε_N = 0.06107\n",
      "N = 38 → P_err = 0.10540, ε_N = 0.05921\n",
      "N = 39 → P_err = 0.10140, ε_N = 0.05868\n",
      "N = 40 → P_err = 0.10190, ε_N = 0.05709\n",
      "N = 41 → P_err = 0.09710, ε_N = 0.05688\n",
      "N = 42 → P_err = 0.09810, ε_N = 0.05528\n",
      "N = 43 → P_err = 0.09380, ε_N = 0.05504\n",
      "N = 44 → P_err = 0.08680, ε_N = 0.05555\n",
      "N = 45 → P_err = 0.08480, ε_N = 0.05483\n",
      "N = 46 → P_err = 0.08400, ε_N = 0.05385\n",
      "N = 47 → P_err = 0.08120, ε_N = 0.05342\n",
      "N = 48 → P_err = 0.08140, ε_N = 0.05226\n",
      "N = 49 → P_err = 0.07780, ε_N = 0.05211\n",
      "N = 50 → P_err = 0.07720, ε_N = 0.05123\n",
      "N = 51 → P_err = 0.07320, ε_N = 0.05127\n",
      "N = 52 → P_err = 0.07530, ε_N = 0.04974\n",
      "N = 53 → P_err = 0.07040, ε_N = 0.05007\n",
      "N = 54 → P_err = 0.07050, ε_N = 0.04911\n",
      "N = 55 → P_err = 0.06680, ε_N = 0.04920\n",
      "N = 56 → P_err = 0.07140, ε_N = 0.04713\n",
      "N = 57 → P_err = 0.06280, ε_N = 0.04856\n",
      "N = 58 → P_err = 0.05800, ε_N = 0.04909\n",
      "N = 59 → P_err = 0.05690, ε_N = 0.04858\n",
      "N = 60 → P_err = 0.05820, ε_N = 0.04740\n",
      "N = 61 → P_err = 0.05520, ε_N = 0.04749\n",
      "N = 62 → P_err = 0.05420, ε_N = 0.04702\n",
      "N = 63 → P_err = 0.04980, ε_N = 0.04761\n",
      "N = 64 → P_err = 0.05690, ε_N = 0.04479\n",
      "N = 65 → P_err = 0.05050, ε_N = 0.04594\n",
      "N = 66 → P_err = 0.04980, ε_N = 0.04545\n",
      "N = 67 → P_err = 0.04740, ε_N = 0.04551\n",
      "N = 68 → P_err = 0.05060, ε_N = 0.04388\n",
      "N = 69 → P_err = 0.04520, ε_N = 0.04488\n",
      "N = 70 → P_err = 0.04200, ε_N = 0.04529\n",
      "N = 71 → P_err = 0.04640, ε_N = 0.04325\n",
      "N = 72 → P_err = 0.04550, ε_N = 0.04292\n",
      "N = 73 → P_err = 0.04150, ε_N = 0.04359\n",
      "N = 74 → P_err = 0.03890, ε_N = 0.04388\n",
      "N = 75 → P_err = 0.03900, ε_N = 0.04326\n",
      "N = 76 → P_err = 0.04310, ε_N = 0.04137\n",
      "N = 77 → P_err = 0.03770, ε_N = 0.04257\n",
      "N = 78 → P_err = 0.03930, ε_N = 0.04149\n",
      "N = 79 → P_err = 0.03410, ε_N = 0.04277\n",
      "N = 80 → P_err = 0.03830, ε_N = 0.04078\n",
      "N = 81 → P_err = 0.03310, ε_N = 0.04208\n",
      "N = 82 → P_err = 0.03540, ε_N = 0.04074\n",
      "N = 83 → P_err = 0.03250, ε_N = 0.04128\n",
      "N = 84 → P_err = 0.03040, ε_N = 0.04159\n",
      "N = 85 → P_err = 0.02970, ε_N = 0.04137\n",
      "N = 86 → P_err = 0.03190, ε_N = 0.04006\n",
      "N = 87 → P_err = 0.02960, ε_N = 0.04046\n",
      "N = 88 → P_err = 0.02900, ε_N = 0.04023\n",
      "N = 89 → P_err = 0.02800, ε_N = 0.04017\n",
      "N = 90 → P_err = 0.02840, ε_N = 0.03957\n",
      "N = 91 → P_err = 0.02610, ε_N = 0.04006\n",
      "N = 92 → P_err = 0.02860, ε_N = 0.03863\n",
      "N = 93 → P_err = 0.02530, ε_N = 0.03954\n",
      "N = 94 → P_err = 0.02480, ε_N = 0.03933\n",
      "N = 95 → P_err = 0.02520, ε_N = 0.03875\n",
      "N = 96 → P_err = 0.02220, ε_N = 0.03966\n",
      "N = 97 → P_err = 0.02530, ε_N = 0.03791\n",
      "N = 98 → P_err = 0.02480, ε_N = 0.03772\n",
      "N = 99 → P_err = 0.02450, ε_N = 0.03747\n",
      "N = 100 → P_err = 0.02050, ε_N = 0.03887\n",
      "N = 101 → P_err = 0.02060, ε_N = 0.03844\n",
      "N = 102 → P_err = 0.02280, ε_N = 0.03707\n",
      "N = 103 → P_err = 0.02440, ε_N = 0.03605\n",
      "N = 104 → P_err = 0.01800, ε_N = 0.03863\n",
      "N = 105 → P_err = 0.01950, ε_N = 0.03750\n",
      "N = 106 → P_err = 0.01580, ε_N = 0.03913\n",
      "N = 107 → P_err = 0.01780, ε_N = 0.03765\n",
      "N = 108 → P_err = 0.01830, ε_N = 0.03704\n",
      "N = 109 → P_err = 0.01980, ε_N = 0.03598\n",
      "N = 110 → P_err = 0.02080, ε_N = 0.03521\n",
      "N = 111 → P_err = 0.01750, ε_N = 0.03645\n",
      "N = 112 → P_err = 0.01750, ε_N = 0.03612\n",
      "N = 113 → P_err = 0.01690, ε_N = 0.03611\n",
      "N = 114 → P_err = 0.01790, ε_N = 0.03529\n",
      "N = 115 → P_err = 0.01440, ε_N = 0.03687\n",
      "N = 116 → P_err = 0.01410, ε_N = 0.03674\n",
      "N = 117 → P_err = 0.01300, ε_N = 0.03712\n",
      "N = 118 → P_err = 0.01300, ε_N = 0.03680\n",
      "N = 119 → P_err = 0.01520, ε_N = 0.03518\n",
      "N = 120 → P_err = 0.01680, ε_N = 0.03405\n",
      "N = 121 → P_err = 0.01230, ε_N = 0.03635\n",
      "N = 122 → P_err = 0.01300, ε_N = 0.03560\n",
      "N = 123 → P_err = 0.01240, ε_N = 0.03569\n",
      "N = 124 → P_err = 0.01310, ε_N = 0.03496\n",
      "N = 125 → P_err = 0.01300, ε_N = 0.03474\n",
      "N = 126 → P_err = 0.01180, ε_N = 0.03524\n",
      "N = 127 → P_err = 0.01070, ε_N = 0.03573\n",
      "N = 128 → P_err = 0.00860, ε_N = 0.03716\n",
      "N = 129 → P_err = 0.01190, ε_N = 0.03435\n",
      "N = 130 → P_err = 0.01070, ε_N = 0.03490\n",
      "N = 131 → P_err = 0.00970, ε_N = 0.03539\n",
      "N = 132 → P_err = 0.01150, ε_N = 0.03383\n",
      "N = 133 → P_err = 0.01070, ε_N = 0.03412\n",
      "N = 134 → P_err = 0.00960, ε_N = 0.03467\n",
      "N = 135 → P_err = 0.01030, ε_N = 0.03389\n",
      "N = 136 → P_err = 0.00830, ε_N = 0.03523\n",
      "N = 137 → P_err = 0.01000, ε_N = 0.03361\n",
      "N = 138 → P_err = 0.00820, ε_N = 0.03481\n",
      "N = 139 → P_err = 0.00960, ε_N = 0.03342\n",
      "N = 140 → P_err = 0.00740, ε_N = 0.03504\n",
      "N = 141 → P_err = 0.00740, ε_N = 0.03480\n",
      "N = 142 → P_err = 0.00760, ε_N = 0.03436\n",
      "N = 143 → P_err = 0.00670, ε_N = 0.03500\n",
      "N = 144 → P_err = 0.00780, ε_N = 0.03371\n",
      "N = 145 → P_err = 0.00630, ε_N = 0.03495\n",
      "N = 146 → P_err = 0.00680, ε_N = 0.03418\n",
      "N = 147 → P_err = 0.00790, ε_N = 0.03293\n",
      "N = 148 → P_err = 0.00600, ε_N = 0.03457\n",
      "N = 149 → P_err = 0.00640, ε_N = 0.03390\n"
     ]
    }
   ],
   "source": [
    "v = 0.8\n",
    "rho_plus, rho_minus = simple_qubit_example(0.8, pauli_matrices('z'))\n",
    "#Pi_plus, Pi_minus = get_helstrom_povm_multicopy(rho_plus, rho_minus, M=1)\n",
    "set_of_P_err = []\n",
    "set_of_eps_N = []\n",
    "\n",
    "for N in range(1, 150):\n",
    "    P_err, epsilon_N = estimate_error_exponent(rho_plus, rho_minus, E0, E1, N, num_trials=10000)\n",
    "    print(f\"N = {N} → P_err = {P_err:.5f}, ε_N = {epsilon_N:.5f}\")\n",
    "    set_of_eps_N.append(epsilon_N)\n",
    "    set_of_P_err.append(P_err)\n"
   ]
  },
  {
   "cell_type": "code",
   "execution_count": 91,
   "id": "e740b752",
   "metadata": {},
   "outputs": [
    {
     "data": {
      "image/png": "[encoded data removed]",
      "text/plain": [
       "<Figure size 640x480 with 1 Axes>"
      ]
     },
     "metadata": {},
     "output_type": "display_data"
    }
   ],
   "source": [
    "\n",
    "# Assume set_of_eps_N is a list of ε_N for N = 1 to 999\n",
    "Ns = list(range(1, 150))  # N starts at 1\n",
    "\n",
    "plt.plot(Ns, set_of_eps_N, label=\"Empirical ε_N\")\n",
    "plt.axhline(y=chernoff_error_exponent(rho0, rho1), color='r', linestyle='--', label='Chernoff Bound')\n",
    "plt.xlabel(\"Number of Copies N\")\n",
    "plt.ylabel(\"Error Exponent ε_N\")\n",
    "plt.title(\"Error Exponent from Majority Vote vs Chernoff Bound\")\n",
    "plt.legend()\n",
    "plt.grid(True)\n",
    "plt.show()\n"
   ]
  },
  {
   "cell_type": "code",
   "execution_count": null,
   "id": "9fec7ca3",
   "metadata": {},
   "outputs": [
    {
     "name": "stdout",
     "output_type": "stream",
     "text": [
      "N = 1 → P_err = 0.42590, ε_N = 0.85355\n",
      "N = 2 → P_err = 0.43510, ε_N = 0.41609\n",
      "N = 3 → P_err = 0.39340, ε_N = 0.31098\n",
      "N = 4 → P_err = 0.39530, ε_N = 0.23203\n",
      "N = 5 → P_err = 0.36530, ε_N = 0.20141\n",
      "N = 6 → P_err = 0.37950, ε_N = 0.16148\n",
      "N = 7 → P_err = 0.34700, ε_N = 0.15120\n",
      "N = 8 → P_err = 0.34980, ε_N = 0.13130\n",
      "N = 9 → P_err = 0.33710, ε_N = 0.12082\n",
      "N = 10 → P_err = 0.33130, ε_N = 0.11047\n",
      "N = 11 → P_err = 0.31840, ε_N = 0.10404\n",
      "N = 12 → P_err = 0.30870, ε_N = 0.09795\n",
      "N = 13 → P_err = 0.30310, ε_N = 0.09182\n",
      "N = 14 → P_err = 0.30470, ε_N = 0.08489\n",
      "N = 15 → P_err = 0.29290, ε_N = 0.08186\n",
      "N = 16 → P_err = 0.28650, ε_N = 0.07813\n",
      "N = 17 → P_err = 0.27480, ε_N = 0.07598\n",
      "N = 18 → P_err = 0.27030, ε_N = 0.07268\n",
      "N = 19 → P_err = 0.25610, ε_N = 0.07169\n",
      "N = 20 → P_err = 0.26230, ε_N = 0.06691\n",
      "N = 21 → P_err = 0.26430, ε_N = 0.06337\n",
      "N = 22 → P_err = 0.25010, ε_N = 0.06300\n",
      "N = 23 → P_err = 0.25620, ε_N = 0.05921\n",
      "N = 24 → P_err = 0.25100, ε_N = 0.05760\n",
      "N = 25 → P_err = 0.23450, ε_N = 0.05801\n",
      "N = 26 → P_err = 0.23680, ε_N = 0.05541\n",
      "N = 27 → P_err = 0.22680, ε_N = 0.05495\n",
      "N = 28 → P_err = 0.23020, ε_N = 0.05246\n",
      "N = 29 → P_err = 0.21340, ε_N = 0.05326\n",
      "N = 30 → P_err = 0.22280, ε_N = 0.05005\n",
      "N = 31 → P_err = 0.21690, ε_N = 0.04930\n",
      "N = 32 → P_err = 0.20480, ε_N = 0.04955\n",
      "N = 33 → P_err = 0.19630, ε_N = 0.04934\n",
      "N = 34 → P_err = 0.20620, ε_N = 0.04644\n",
      "N = 35 → P_err = 0.19580, ε_N = 0.04659\n",
      "N = 36 → P_err = 0.19670, ε_N = 0.04517\n",
      "N = 37 → P_err = 0.19460, ε_N = 0.04424\n",
      "N = 38 → P_err = 0.18960, ε_N = 0.04376\n",
      "N = 39 → P_err = 0.18170, ε_N = 0.04373\n",
      "N = 40 → P_err = 0.18210, ε_N = 0.04258\n",
      "N = 41 → P_err = 0.17700, ε_N = 0.04223\n",
      "N = 42 → P_err = 0.17920, ε_N = 0.04093\n",
      "N = 43 → P_err = 0.17360, ε_N = 0.04072\n",
      "N = 44 → P_err = 0.17870, ε_N = 0.03914\n",
      "N = 45 → P_err = 0.16840, ε_N = 0.03959\n",
      "N = 46 → P_err = 0.17010, ε_N = 0.03851\n",
      "N = 47 → P_err = 0.16710, ε_N = 0.03807\n",
      "N = 48 → P_err = 0.16020, ε_N = 0.03815\n",
      "N = 49 → P_err = 0.16100, ε_N = 0.03727\n",
      "N = 50 → P_err = 0.15380, ε_N = 0.03744\n",
      "N = 51 → P_err = 0.15960, ε_N = 0.03598\n",
      "N = 52 → P_err = 0.15250, ε_N = 0.03617\n",
      "N = 53 → P_err = 0.15410, ε_N = 0.03529\n",
      "N = 54 → P_err = 0.14940, ε_N = 0.03521\n",
      "N = 55 → P_err = 0.14240, ε_N = 0.03544\n",
      "N = 56 → P_err = 0.14190, ε_N = 0.03487\n",
      "N = 57 → P_err = 0.14460, ε_N = 0.03393\n",
      "N = 58 → P_err = 0.13730, ε_N = 0.03423\n",
      "N = 59 → P_err = 0.13670, ε_N = 0.03373\n",
      "N = 60 → P_err = 0.13220, ε_N = 0.03372\n",
      "N = 61 → P_err = 0.13270, ε_N = 0.03311\n",
      "N = 62 → P_err = 0.12940, ε_N = 0.03298\n",
      "N = 63 → P_err = 0.13070, ε_N = 0.03230\n",
      "N = 64 → P_err = 0.12480, ε_N = 0.03252\n",
      "N = 65 → P_err = 0.12280, ε_N = 0.03226\n",
      "N = 66 → P_err = 0.12320, ε_N = 0.03173\n",
      "N = 67 → P_err = 0.12360, ε_N = 0.03120\n",
      "N = 68 → P_err = 0.12110, ε_N = 0.03105\n",
      "N = 69 → P_err = 0.11590, ε_N = 0.03123\n",
      "N = 70 → P_err = 0.11660, ε_N = 0.03070\n",
      "N = 71 → P_err = 0.11430, ε_N = 0.03055\n",
      "N = 72 → P_err = 0.11810, ε_N = 0.02967\n",
      "N = 73 → P_err = 0.10920, ε_N = 0.03034\n",
      "N = 74 → P_err = 0.10970, ε_N = 0.02986\n",
      "N = 75 → P_err = 0.10950, ε_N = 0.02949\n",
      "N = 76 → P_err = 0.10510, ε_N = 0.02964\n",
      "N = 77 → P_err = 0.10480, ε_N = 0.02929\n",
      "N = 78 → P_err = 0.10140, ε_N = 0.02934\n",
      "N = 79 → P_err = 0.10310, ε_N = 0.02876\n",
      "N = 80 → P_err = 0.09880, ε_N = 0.02893\n",
      "N = 81 → P_err = 0.09710, ε_N = 0.02879\n",
      "N = 82 → P_err = 0.10230, ε_N = 0.02780\n",
      "N = 83 → P_err = 0.09220, ε_N = 0.02872\n",
      "N = 84 → P_err = 0.09620, ε_N = 0.02787\n",
      "N = 85 → P_err = 0.09080, ε_N = 0.02822\n",
      "N = 86 → P_err = 0.09500, ε_N = 0.02737\n",
      "N = 87 → P_err = 0.08950, ε_N = 0.02774\n",
      "N = 88 → P_err = 0.09460, ε_N = 0.02680\n",
      "N = 89 → P_err = 0.09370, ε_N = 0.02660\n",
      "N = 90 → P_err = 0.08980, ε_N = 0.02678\n",
      "N = 91 → P_err = 0.08980, ε_N = 0.02649\n",
      "N = 92 → P_err = 0.08420, ε_N = 0.02690\n",
      "N = 93 → P_err = 0.08510, ε_N = 0.02649\n",
      "N = 94 → P_err = 0.08640, ε_N = 0.02605\n",
      "N = 95 → P_err = 0.08180, ε_N = 0.02635\n",
      "N = 96 → P_err = 0.08130, ε_N = 0.02614\n",
      "N = 97 → P_err = 0.08470, ε_N = 0.02545\n",
      "N = 98 → P_err = 0.08210, ε_N = 0.02551\n",
      "N = 99 → P_err = 0.08010, ε_N = 0.02550\n",
      "N = 100 → P_err = 0.07830, ε_N = 0.02547\n",
      "N = 101 → P_err = 0.07530, ε_N = 0.02561\n",
      "N = 102 → P_err = 0.08190, ε_N = 0.02453\n",
      "N = 103 → P_err = 0.07320, ε_N = 0.02538\n",
      "N = 104 → P_err = 0.07550, ε_N = 0.02484\n",
      "N = 105 → P_err = 0.07700, ε_N = 0.02442\n",
      "N = 106 → P_err = 0.07060, ε_N = 0.02501\n",
      "N = 107 → P_err = 0.07190, ε_N = 0.02460\n",
      "N = 108 → P_err = 0.07270, ε_N = 0.02427\n",
      "N = 109 → P_err = 0.06900, ε_N = 0.02453\n",
      "N = 110 → P_err = 0.06560, ε_N = 0.02477\n",
      "N = 111 → P_err = 0.07020, ε_N = 0.02393\n",
      "N = 112 → P_err = 0.06850, ε_N = 0.02394\n",
      "N = 113 → P_err = 0.07020, ε_N = 0.02351\n",
      "N = 114 → P_err = 0.06550, ε_N = 0.02391\n",
      "N = 115 → P_err = 0.05930, ε_N = 0.02457\n",
      "N = 116 → P_err = 0.06130, ε_N = 0.02407\n",
      "N = 117 → P_err = 0.06070, ε_N = 0.02395\n",
      "N = 118 → P_err = 0.05990, ε_N = 0.02386\n",
      "N = 119 → P_err = 0.06380, ε_N = 0.02313\n",
      "N = 120 → P_err = 0.06340, ε_N = 0.02299\n",
      "N = 121 → P_err = 0.05840, ε_N = 0.02347\n",
      "N = 122 → P_err = 0.06370, ε_N = 0.02257\n",
      "N = 123 → P_err = 0.06090, ε_N = 0.02275\n",
      "N = 124 → P_err = 0.05820, ε_N = 0.02293\n",
      "N = 125 → P_err = 0.05260, ε_N = 0.02356\n",
      "N = 126 → P_err = 0.05820, ε_N = 0.02257\n",
      "N = 127 → P_err = 0.05490, ε_N = 0.02285\n",
      "N = 128 → P_err = 0.05410, ε_N = 0.02279\n",
      "N = 129 → P_err = 0.05090, ε_N = 0.02308\n",
      "N = 130 → P_err = 0.05150, ε_N = 0.02282\n",
      "N = 131 → P_err = 0.05200, ε_N = 0.02257\n",
      "N = 132 → P_err = 0.05400, ε_N = 0.02211\n",
      "N = 133 → P_err = 0.04510, ε_N = 0.02330\n",
      "N = 134 → P_err = 0.05140, ε_N = 0.02215\n",
      "N = 135 → P_err = 0.04930, ε_N = 0.02230\n",
      "N = 136 → P_err = 0.05300, ε_N = 0.02160\n",
      "N = 137 → P_err = 0.04470, ε_N = 0.02268\n",
      "N = 138 → P_err = 0.04970, ε_N = 0.02175\n",
      "N = 139 → P_err = 0.04600, ε_N = 0.02215\n",
      "N = 140 → P_err = 0.04460, ε_N = 0.02221\n",
      "N = 141 → P_err = 0.04380, ε_N = 0.02219\n",
      "N = 142 → P_err = 0.04350, ε_N = 0.02208\n",
      "N = 143 → P_err = 0.04080, ε_N = 0.02237\n",
      "N = 144 → P_err = 0.04460, ε_N = 0.02160\n",
      "N = 145 → P_err = 0.04260, ε_N = 0.02176\n",
      "N = 146 → P_err = 0.04340, ε_N = 0.02149\n",
      "N = 147 → P_err = 0.04530, ε_N = 0.02105\n",
      "N = 148 → P_err = 0.04100, ε_N = 0.02158\n",
      "N = 149 → P_err = 0.04230, ε_N = 0.02123\n"
     ]
    }
   ],
   "source": [
    "rho_plus_c, rho_minus_c = more_complex_qubit_example(0.8)\n",
    "_, angles = minimum_error_probability(rho_plus_c, rho_minus_c, 1/2)\n",
    "E0, E1 = func_for_POVM(*angles)\n",
    "set_of_P_err_c = []\n",
    "set_of_eps_N_c = []\n",
    "\n",
    "for N in range(1, 150):\n",
    "    P_err_c, epsilon_N_c = estimate_error_exponent(rho_plus_c, rho_minus_c, E0, E1, N, num_trials=10000)\n",
    "    print(f\"N = {N} → P_err = {P_err_c:.5f}, ε_N = {epsilon_N_c:.5f}\")\n",
    "    set_of_eps_N_c.append(epsilon_N_c)\n",
    "    set_of_P_err_c.append(P_err_c)"
   ]
  },
  {
   "cell_type": "code",
   "execution_count": 97,
   "id": "9e3ba0ff",
   "metadata": {},
   "outputs": [
    {
     "data": {
      "image/png": "[encoded data removed]",
      "text/plain": [
       "<Figure size 640x480 with 1 Axes>"
      ]
     },
     "metadata": {},
     "output_type": "display_data"
    }
   ],
   "source": [
    "\n",
    "# Assume set_of_eps_N is a list of ε_N for N = 1 to 999\n",
    "Ns = list(range(1, 150))  # N starts at 1\n",
    "\n",
    "plt.plot(Ns, set_of_eps_N_c, label=\"Empirical ε_N\")\n",
    "plt.axhline(y=chernoff_error_exponent(rho_plus_c, rho_minus_c), color='r', linestyle='--', label='Chernoff Bound')\n",
    "plt.xlabel(\"Number of Copies N\")\n",
    "plt.ylabel(\"Error Exponent ε_N\")\n",
    "plt.title(\"Error Exponent from Majority Vote vs Chernoff Bound\")\n",
    "plt.legend()\n",
    "plt.grid(True)\n",
    "plt.show()\n"
   ]
  },
  {
   "cell_type": "code",
   "execution_count": 115,
   "id": "ef0a8e47",
   "metadata": {},
   "outputs": [
    {
     "data": {
      "text/plain": [
       "np.float64(0.4292893218813453)"
      ]
     },
     "execution_count": 115,
     "metadata": {},
     "output_type": "execute_result"
    }
   ],
   "source": [
    "helstrom_bound(1/2, rho_plus_c, rho_minus_c)"
   ]
  },
  {
   "cell_type": "code",
   "execution_count": 116,
   "id": "fe5be368",
   "metadata": {},
   "outputs": [],
   "source": [
    "cost, _ = minimum_error_probability(rho_plus_c, rho_minus_c, 1/2)"
   ]
  },
  {
   "cell_type": "code",
   "execution_count": 117,
   "id": "960f3fab",
   "metadata": {},
   "outputs": [
    {
     "data": {
      "text/plain": [
       "np.float64(0.4292893218813451)"
      ]
     },
     "execution_count": 117,
     "metadata": {},
     "output_type": "execute_result"
    }
   ],
   "source": [
    "cost"
   ]
  },
  {
   "cell_type": "code",
   "execution_count": 112,
   "id": "8984622c",
   "metadata": {},
   "outputs": [
    {
     "data": {
      "text/plain": [
       "np.float64(0.4395847701320271)"
      ]
     },
     "execution_count": 112,
     "metadata": {},
     "output_type": "execute_result"
    }
   ],
   "source": [
    "rho_plus_nt, rho_minus_nt = nontrivial_mixed_qubit_states(0.8)\n",
    "helstrom_bound(1/2, rho_plus_nt, rho_minus_nt)\n"
   ]
  },
  {
   "cell_type": "code",
   "execution_count": 113,
   "id": "fb26b2d3",
   "metadata": {},
   "outputs": [],
   "source": [
    "cost, _ = minimum_error_probability(rho_plus_nt, rho_minus_nt, 1/2)"
   ]
  },
  {
   "cell_type": "code",
   "execution_count": 114,
   "id": "2cba258a",
   "metadata": {},
   "outputs": [
    {
     "data": {
      "text/plain": [
       "np.float64(0.4395847701320272)"
      ]
     },
     "execution_count": 114,
     "metadata": {},
     "output_type": "execute_result"
    }
   ],
   "source": [
    "cost"
   ]
  },
  {
   "cell_type": "code",
   "execution_count": 108,
   "id": "907c3898",
   "metadata": {},
   "outputs": [
    {
     "name": "stdout",
     "output_type": "stream",
     "text": [
      "N = 1 → P_err = 0.44040, ε_N = 0.82007\n",
      "N = 2 → P_err = 0.43450, ε_N = 0.41678\n",
      "N = 3 → P_err = 0.41290, ε_N = 0.29485\n",
      "N = 4 → P_err = 0.40460, ε_N = 0.22621\n",
      "N = 5 → P_err = 0.38730, ε_N = 0.18971\n",
      "N = 6 → P_err = 0.39320, ε_N = 0.15557\n",
      "N = 7 → P_err = 0.37450, ε_N = 0.14031\n",
      "N = 8 → P_err = 0.37680, ε_N = 0.12201\n",
      "N = 9 → P_err = 0.35370, ε_N = 0.11548\n",
      "N = 10 → P_err = 0.35300, ε_N = 0.10413\n",
      "N = 11 → P_err = 0.34830, ε_N = 0.09588\n",
      "N = 12 → P_err = 0.34250, ε_N = 0.08929\n",
      "N = 13 → P_err = 0.32660, ε_N = 0.08608\n",
      "N = 14 → P_err = 0.32320, ε_N = 0.08068\n",
      "N = 15 → P_err = 0.30720, ε_N = 0.07868\n",
      "N = 16 → P_err = 0.32300, ε_N = 0.07063\n",
      "N = 17 → P_err = 0.30030, ε_N = 0.07076\n",
      "N = 18 → P_err = 0.30730, ε_N = 0.06555\n",
      "N = 19 → P_err = 0.29120, ε_N = 0.06493\n",
      "N = 20 → P_err = 0.29970, ε_N = 0.06025\n",
      "N = 21 → P_err = 0.27950, ε_N = 0.06070\n",
      "N = 22 → P_err = 0.28900, ε_N = 0.05642\n",
      "N = 23 → P_err = 0.27620, ε_N = 0.05594\n",
      "N = 24 → P_err = 0.27000, ε_N = 0.05456\n",
      "N = 25 → P_err = 0.26680, ε_N = 0.05285\n",
      "N = 26 → P_err = 0.26010, ε_N = 0.05180\n",
      "N = 27 → P_err = 0.26270, ε_N = 0.04951\n",
      "N = 28 → P_err = 0.25790, ε_N = 0.04840\n",
      "N = 29 → P_err = 0.25780, ε_N = 0.04674\n",
      "N = 30 → P_err = 0.25600, ε_N = 0.04542\n",
      "N = 31 → P_err = 0.24990, ε_N = 0.04473\n",
      "N = 32 → P_err = 0.24920, ε_N = 0.04342\n",
      "N = 33 → P_err = 0.23700, ε_N = 0.04363\n",
      "N = 34 → P_err = 0.24690, ε_N = 0.04114\n",
      "N = 35 → P_err = 0.22980, ε_N = 0.04202\n",
      "N = 36 → P_err = 0.23620, ε_N = 0.04009\n",
      "N = 37 → P_err = 0.22820, ε_N = 0.03993\n",
      "N = 38 → P_err = 0.23030, ε_N = 0.03864\n",
      "N = 39 → P_err = 0.21970, ε_N = 0.03886\n",
      "N = 40 → P_err = 0.22770, ε_N = 0.03699\n",
      "N = 41 → P_err = 0.22020, ε_N = 0.03691\n",
      "N = 42 → P_err = 0.21700, ε_N = 0.03638\n",
      "N = 43 → P_err = 0.21070, ε_N = 0.03622\n",
      "N = 44 → P_err = 0.21350, ε_N = 0.03509\n",
      "N = 45 → P_err = 0.20710, ε_N = 0.03499\n",
      "N = 46 → P_err = 0.20990, ε_N = 0.03394\n",
      "N = 47 → P_err = 0.19820, ε_N = 0.03444\n",
      "N = 48 → P_err = 0.20510, ε_N = 0.03301\n",
      "N = 49 → P_err = 0.19700, ε_N = 0.03315\n",
      "N = 50 → P_err = 0.20160, ε_N = 0.03203\n",
      "N = 51 → P_err = 0.18590, ε_N = 0.03299\n",
      "N = 52 → P_err = 0.19740, ε_N = 0.03120\n",
      "N = 53 → P_err = 0.19030, ε_N = 0.03130\n",
      "N = 54 → P_err = 0.18970, ε_N = 0.03078\n",
      "N = 55 → P_err = 0.18380, ε_N = 0.03080\n",
      "N = 56 → P_err = 0.18750, ε_N = 0.02989\n",
      "N = 57 → P_err = 0.18190, ε_N = 0.02990\n",
      "N = 58 → P_err = 0.18000, ε_N = 0.02957\n",
      "N = 59 → P_err = 0.17500, ε_N = 0.02954\n",
      "N = 60 → P_err = 0.17200, ε_N = 0.02934\n",
      "N = 61 → P_err = 0.16960, ε_N = 0.02909\n",
      "N = 62 → P_err = 0.17390, ε_N = 0.02821\n",
      "N = 63 → P_err = 0.16890, ε_N = 0.02823\n",
      "N = 64 → P_err = 0.16550, ε_N = 0.02811\n",
      "N = 65 → P_err = 0.15480, ε_N = 0.02870\n",
      "N = 66 → P_err = 0.16230, ε_N = 0.02755\n",
      "N = 67 → P_err = 0.15640, ε_N = 0.02769\n",
      "N = 68 → P_err = 0.15750, ε_N = 0.02718\n",
      "N = 69 → P_err = 0.15860, ε_N = 0.02669\n",
      "N = 70 → P_err = 0.15620, ε_N = 0.02652\n",
      "N = 71 → P_err = 0.15150, ε_N = 0.02658\n",
      "N = 72 → P_err = 0.15120, ε_N = 0.02624\n",
      "N = 73 → P_err = 0.15030, ε_N = 0.02596\n",
      "N = 74 → P_err = 0.15080, ε_N = 0.02556\n",
      "N = 75 → P_err = 0.14990, ε_N = 0.02530\n",
      "N = 76 → P_err = 0.14390, ε_N = 0.02551\n",
      "N = 77 → P_err = 0.13970, ε_N = 0.02556\n",
      "N = 78 → P_err = 0.14330, ε_N = 0.02491\n",
      "N = 79 → P_err = 0.14470, ε_N = 0.02447\n",
      "N = 80 → P_err = 0.13870, ε_N = 0.02469\n",
      "N = 81 → P_err = 0.13910, ε_N = 0.02435\n",
      "N = 82 → P_err = 0.13520, ε_N = 0.02440\n",
      "N = 83 → P_err = 0.13730, ε_N = 0.02392\n",
      "N = 84 → P_err = 0.13390, ε_N = 0.02394\n",
      "N = 85 → P_err = 0.12780, ε_N = 0.02420\n",
      "N = 86 → P_err = 0.13420, ε_N = 0.02335\n",
      "N = 87 → P_err = 0.12800, ε_N = 0.02363\n",
      "N = 88 → P_err = 0.13150, ε_N = 0.02305\n",
      "N = 89 → P_err = 0.13060, ε_N = 0.02287\n",
      "N = 90 → P_err = 0.12520, ε_N = 0.02309\n",
      "N = 91 → P_err = 0.12440, ε_N = 0.02290\n",
      "N = 92 → P_err = 0.12010, ε_N = 0.02304\n",
      "N = 93 → P_err = 0.11980, ε_N = 0.02282\n",
      "N = 94 → P_err = 0.12370, ε_N = 0.02223\n",
      "N = 95 → P_err = 0.12020, ε_N = 0.02230\n",
      "N = 96 → P_err = 0.11970, ε_N = 0.02211\n",
      "N = 97 → P_err = 0.11880, ε_N = 0.02196\n",
      "N = 98 → P_err = 0.11240, ε_N = 0.02230\n",
      "N = 99 → P_err = 0.11780, ε_N = 0.02160\n",
      "N = 100 → P_err = 0.11420, ε_N = 0.02170\n",
      "N = 101 → P_err = 0.11540, ε_N = 0.02138\n",
      "N = 102 → P_err = 0.11640, ε_N = 0.02109\n",
      "N = 103 → P_err = 0.11140, ε_N = 0.02131\n",
      "N = 104 → P_err = 0.11420, ε_N = 0.02086\n",
      "N = 105 → P_err = 0.10500, ε_N = 0.02146\n",
      "N = 106 → P_err = 0.10250, ε_N = 0.02149\n",
      "N = 107 → P_err = 0.10580, ε_N = 0.02099\n",
      "N = 108 → P_err = 0.10760, ε_N = 0.02064\n",
      "N = 109 → P_err = 0.10160, ε_N = 0.02098\n",
      "N = 110 → P_err = 0.10860, ε_N = 0.02018\n",
      "N = 111 → P_err = 0.10060, ε_N = 0.02069\n",
      "N = 112 → P_err = 0.10490, ε_N = 0.02013\n",
      "N = 113 → P_err = 0.10420, ε_N = 0.02001\n",
      "N = 114 → P_err = 0.10000, ε_N = 0.02020\n",
      "N = 115 → P_err = 0.09990, ε_N = 0.02003\n",
      "N = 116 → P_err = 0.10430, ε_N = 0.01949\n",
      "N = 117 → P_err = 0.09960, ε_N = 0.01971\n",
      "N = 118 → P_err = 0.09630, ε_N = 0.01983\n",
      "N = 119 → P_err = 0.09630, ε_N = 0.01967\n",
      "N = 120 → P_err = 0.09440, ε_N = 0.01967\n",
      "N = 121 → P_err = 0.09280, ε_N = 0.01965\n",
      "N = 122 → P_err = 0.09570, ε_N = 0.01923\n",
      "N = 123 → P_err = 0.09070, ε_N = 0.01951\n",
      "N = 124 → P_err = 0.08730, ε_N = 0.01966\n",
      "N = 125 → P_err = 0.09110, ε_N = 0.01917\n",
      "N = 126 → P_err = 0.08870, ε_N = 0.01923\n",
      "N = 127 → P_err = 0.08650, ε_N = 0.01927\n",
      "N = 128 → P_err = 0.08990, ε_N = 0.01882\n",
      "N = 129 → P_err = 0.08380, ε_N = 0.01922\n",
      "N = 130 → P_err = 0.08850, ε_N = 0.01865\n",
      "N = 131 → P_err = 0.07980, ε_N = 0.01930\n",
      "N = 132 → P_err = 0.08010, ε_N = 0.01912\n",
      "N = 133 → P_err = 0.08460, ε_N = 0.01857\n",
      "N = 134 → P_err = 0.08280, ε_N = 0.01859\n",
      "N = 135 → P_err = 0.07860, ε_N = 0.01884\n",
      "N = 136 → P_err = 0.07960, ε_N = 0.01861\n",
      "N = 137 → P_err = 0.07940, ε_N = 0.01849\n",
      "N = 138 → P_err = 0.08400, ε_N = 0.01795\n",
      "N = 139 → P_err = 0.07620, ε_N = 0.01852\n",
      "N = 140 → P_err = 0.07610, ε_N = 0.01840\n",
      "N = 141 → P_err = 0.07440, ε_N = 0.01843\n",
      "N = 142 → P_err = 0.07990, ε_N = 0.01780\n",
      "N = 143 → P_err = 0.07360, ε_N = 0.01825\n",
      "N = 144 → P_err = 0.07440, ε_N = 0.01804\n",
      "N = 145 → P_err = 0.07060, ε_N = 0.01828\n",
      "N = 146 → P_err = 0.07410, ε_N = 0.01782\n",
      "N = 147 → P_err = 0.06850, ε_N = 0.01824\n",
      "N = 148 → P_err = 0.07000, ε_N = 0.01797\n",
      "N = 149 → P_err = 0.07390, ε_N = 0.01748\n"
     ]
    }
   ],
   "source": [
    "_, angles = minimum_error_probability(rho_plus_nt, rho_minus_nt, 1/2)\n",
    "E0, E1 = func_for_POVM(*angles)\n",
    "set_of_P_err_nt = []\n",
    "set_of_eps_N_nt = []\n",
    "\n",
    "for N in range(1, 150):\n",
    "    P_err_nt, epsilon_N_nt = estimate_error_exponent(rho_plus_nt, rho_minus_nt, E0, E1, N, num_trials=10000)\n",
    "    print(f\"N = {N} → P_err = {P_err_nt:.5f}, ε_N = {epsilon_N_nt:.5f}\")\n",
    "    set_of_eps_N_nt.append(epsilon_N_nt)\n",
    "    set_of_P_err_nt.append(P_err_nt)"
   ]
  },
  {
   "cell_type": "code",
   "execution_count": 109,
   "id": "bba17314",
   "metadata": {},
   "outputs": [
    {
     "data": {
      "image/png": "[encoded data removed]",
      "text/plain": [
       "<Figure size 640x480 with 1 Axes>"
      ]
     },
     "metadata": {},
     "output_type": "display_data"
    }
   ],
   "source": [
    "\n",
    "# Assume set_of_eps_N is a list of ε_N for N = 1 to 999\n",
    "Ns = list(range(1, 150))  # N starts at 1\n",
    "\n",
    "plt.plot(Ns, set_of_eps_N_nt, label=\"Empirical ε_N\")\n",
    "plt.axhline(y=chernoff_error_exponent(rho_plus_nt, rho_minus_nt), color='r', linestyle='--', label='Chernoff Bound')\n",
    "plt.xlabel(\"Number of Copies N\")\n",
    "plt.ylabel(\"Error Exponent ε_N\")\n",
    "plt.title(\"Error Exponent from Majority Vote vs Chernoff Bound\")\n",
    "plt.legend()\n",
    "plt.grid(True)\n",
    "plt.show()\n"
   ]
  },
  {
   "cell_type": "code",
   "execution_count": 110,
   "id": "a4b67bde",
   "metadata": {},
   "outputs": [
    {
     "data": {
      "text/plain": [
       "True"
      ]
     },
     "execution_count": 110,
     "metadata": {},
     "output_type": "execute_result"
    }
   ],
   "source": [
    "is_valid_povm([E0,E1])"
   ]
  },
  {
   "cell_type": "code",
   "execution_count": 119,
   "id": "3b0f9536",
   "metadata": {},
   "outputs": [],
   "source": [
    "rho0_cm, rho1_cm = generate_mixed_state_pair()"
   ]
  },
  {
   "cell_type": "code",
   "execution_count": 120,
   "id": "aa5c42e9",
   "metadata": {},
   "outputs": [
    {
     "data": {
      "text/plain": [
       "np.float64(0.4888282561749867)"
      ]
     },
     "execution_count": 120,
     "metadata": {},
     "output_type": "execute_result"
    }
   ],
   "source": [
    "helstrom_bound(1/2, rho0_cm, rho1_cm)\n"
   ]
  },
  {
   "cell_type": "code",
   "execution_count": 121,
   "id": "18fec129",
   "metadata": {},
   "outputs": [],
   "source": [
    "cost, angles = minimum_error_probability(rho0_cm, rho1_cm, 1/2)"
   ]
  },
  {
   "cell_type": "code",
   "execution_count": 122,
   "id": "9e7c1622",
   "metadata": {},
   "outputs": [
    {
     "data": {
      "text/plain": [
       "np.float64(0.48882825617500936)"
      ]
     },
     "execution_count": 122,
     "metadata": {},
     "output_type": "execute_result"
    }
   ],
   "source": [
    "cost"
   ]
  },
  {
   "cell_type": "code",
   "execution_count": 123,
   "id": "34503137",
   "metadata": {},
   "outputs": [
    {
     "data": {
      "text/plain": [
       "array([5.34710344, 0.72930279, 5.04209859, 0.39595549, 6.28318531,\n",
       "       0.        , 1.57079633])"
      ]
     },
     "execution_count": 123,
     "metadata": {},
     "output_type": "execute_result"
    }
   ],
   "source": [
    "angles"
   ]
  },
  {
   "cell_type": "code",
   "execution_count": 128,
   "id": "0ec8ea59",
   "metadata": {},
   "outputs": [
    {
     "name": "stdout",
     "output_type": "stream",
     "text": [
      "N = 1 → P_err = 0.49430, ε_N = 0.70461\n",
      "N = 2 → P_err = 0.48480, ε_N = 0.36201\n",
      "N = 3 → P_err = 0.48140, ε_N = 0.24369\n",
      "N = 4 → P_err = 0.48930, ε_N = 0.17869\n",
      "N = 5 → P_err = 0.48530, ε_N = 0.14460\n",
      "N = 6 → P_err = 0.47410, ε_N = 0.12439\n",
      "N = 7 → P_err = 0.47430, ε_N = 0.10656\n",
      "N = 8 → P_err = 0.47160, ε_N = 0.09395\n",
      "N = 9 → P_err = 0.47730, ε_N = 0.08218\n",
      "N = 10 → P_err = 0.47570, ε_N = 0.07430\n",
      "N = 11 → P_err = 0.46630, ε_N = 0.06936\n",
      "N = 12 → P_err = 0.47530, ε_N = 0.06198\n",
      "N = 13 → P_err = 0.47160, ε_N = 0.05782\n",
      "N = 14 → P_err = 0.46990, ε_N = 0.05395\n",
      "N = 15 → P_err = 0.47090, ε_N = 0.05021\n",
      "N = 16 → P_err = 0.46600, ε_N = 0.04772\n",
      "N = 17 → P_err = 0.46820, ε_N = 0.04464\n",
      "N = 18 → P_err = 0.46030, ε_N = 0.04310\n",
      "N = 19 → P_err = 0.46230, ε_N = 0.04061\n",
      "N = 20 → P_err = 0.46210, ε_N = 0.03860\n",
      "N = 21 → P_err = 0.45740, ε_N = 0.03725\n",
      "N = 22 → P_err = 0.46230, ε_N = 0.03507\n",
      "N = 23 → P_err = 0.45630, ε_N = 0.03411\n",
      "N = 24 → P_err = 0.45680, ε_N = 0.03265\n",
      "N = 25 → P_err = 0.45740, ε_N = 0.03129\n",
      "N = 26 → P_err = 0.45720, ε_N = 0.03010\n",
      "N = 27 → P_err = 0.44640, ε_N = 0.02987\n",
      "N = 28 → P_err = 0.45130, ε_N = 0.02842\n",
      "N = 29 → P_err = 0.45400, ε_N = 0.02723\n",
      "N = 30 → P_err = 0.44760, ε_N = 0.02680\n",
      "N = 31 → P_err = 0.45360, ε_N = 0.02550\n",
      "N = 32 → P_err = 0.45960, ε_N = 0.02429\n",
      "N = 33 → P_err = 0.45910, ε_N = 0.02359\n",
      "N = 34 → P_err = 0.44920, ε_N = 0.02354\n",
      "N = 35 → P_err = 0.44350, ε_N = 0.02323\n",
      "N = 36 → P_err = 0.45210, ε_N = 0.02205\n",
      "N = 37 → P_err = 0.44140, ε_N = 0.02210\n",
      "N = 38 → P_err = 0.45050, ε_N = 0.02098\n",
      "N = 39 → P_err = 0.44740, ε_N = 0.02062\n",
      "N = 40 → P_err = 0.44740, ε_N = 0.02011\n",
      "N = 41 → P_err = 0.45370, ε_N = 0.01928\n",
      "N = 42 → P_err = 0.44040, ε_N = 0.01953\n",
      "N = 43 → P_err = 0.43940, ε_N = 0.01912\n",
      "N = 44 → P_err = 0.45010, ε_N = 0.01814\n",
      "N = 45 → P_err = 0.43460, ε_N = 0.01852\n",
      "N = 46 → P_err = 0.44260, ε_N = 0.01772\n",
      "N = 47 → P_err = 0.42800, ε_N = 0.01806\n",
      "N = 48 → P_err = 0.43130, ε_N = 0.01752\n",
      "N = 49 → P_err = 0.44640, ε_N = 0.01646\n",
      "N = 50 → P_err = 0.43820, ε_N = 0.01650\n",
      "N = 51 → P_err = 0.42840, ε_N = 0.01662\n",
      "N = 52 → P_err = 0.45130, ε_N = 0.01530\n",
      "N = 53 → P_err = 0.44290, ε_N = 0.01537\n",
      "N = 54 → P_err = 0.43930, ε_N = 0.01523\n",
      "N = 55 → P_err = 0.44140, ε_N = 0.01487\n",
      "N = 56 → P_err = 0.43660, ε_N = 0.01480\n",
      "N = 57 → P_err = 0.42210, ε_N = 0.01513\n",
      "N = 58 → P_err = 0.43190, ε_N = 0.01448\n",
      "N = 59 → P_err = 0.43440, ε_N = 0.01413\n",
      "N = 60 → P_err = 0.42960, ε_N = 0.01408\n",
      "N = 61 → P_err = 0.43000, ε_N = 0.01384\n",
      "N = 62 → P_err = 0.43200, ε_N = 0.01354\n",
      "N = 63 → P_err = 0.43250, ε_N = 0.01330\n",
      "N = 64 → P_err = 0.43470, ε_N = 0.01302\n",
      "N = 65 → P_err = 0.43900, ε_N = 0.01267\n",
      "N = 66 → P_err = 0.43830, ε_N = 0.01250\n",
      "N = 67 → P_err = 0.43240, ε_N = 0.01251\n",
      "N = 68 → P_err = 0.43580, ε_N = 0.01221\n",
      "N = 69 → P_err = 0.42410, ε_N = 0.01243\n",
      "N = 70 → P_err = 0.43660, ε_N = 0.01184\n",
      "N = 71 → P_err = 0.43230, ε_N = 0.01181\n",
      "N = 72 → P_err = 0.43620, ε_N = 0.01152\n",
      "N = 73 → P_err = 0.42550, ε_N = 0.01171\n",
      "N = 74 → P_err = 0.42560, ε_N = 0.01154\n",
      "N = 75 → P_err = 0.43180, ε_N = 0.01120\n",
      "N = 76 → P_err = 0.42020, ε_N = 0.01141\n",
      "N = 77 → P_err = 0.41430, ε_N = 0.01144\n",
      "N = 78 → P_err = 0.42020, ε_N = 0.01112\n",
      "N = 79 → P_err = 0.43510, ε_N = 0.01053\n",
      "N = 80 → P_err = 0.42410, ε_N = 0.01072\n",
      "N = 81 → P_err = 0.42030, ε_N = 0.01070\n",
      "N = 82 → P_err = 0.42700, ε_N = 0.01038\n",
      "N = 83 → P_err = 0.41360, ε_N = 0.01064\n",
      "N = 84 → P_err = 0.42480, ε_N = 0.01019\n",
      "N = 85 → P_err = 0.41850, ε_N = 0.01025\n",
      "N = 86 → P_err = 0.41940, ε_N = 0.01010\n",
      "N = 87 → P_err = 0.41400, ε_N = 0.01014\n",
      "N = 88 → P_err = 0.42260, ε_N = 0.00979\n",
      "N = 89 → P_err = 0.41420, ε_N = 0.00990\n",
      "N = 90 → P_err = 0.42350, ε_N = 0.00955\n",
      "N = 91 → P_err = 0.40530, ε_N = 0.00992\n",
      "N = 92 → P_err = 0.41970, ε_N = 0.00944\n",
      "N = 93 → P_err = 0.41640, ε_N = 0.00942\n",
      "N = 94 → P_err = 0.40640, ε_N = 0.00958\n",
      "N = 95 → P_err = 0.41700, ε_N = 0.00921\n",
      "N = 96 → P_err = 0.42150, ε_N = 0.00900\n",
      "N = 97 → P_err = 0.41360, ε_N = 0.00910\n",
      "N = 98 → P_err = 0.41470, ε_N = 0.00898\n",
      "N = 99 → P_err = 0.41320, ε_N = 0.00893\n",
      "N = 100 → P_err = 0.41570, ε_N = 0.00878\n",
      "N = 101 → P_err = 0.42250, ε_N = 0.00853\n",
      "N = 102 → P_err = 0.41840, ε_N = 0.00854\n",
      "N = 103 → P_err = 0.40580, ε_N = 0.00876\n",
      "N = 104 → P_err = 0.41610, ε_N = 0.00843\n",
      "N = 105 → P_err = 0.41500, ε_N = 0.00838\n",
      "N = 106 → P_err = 0.41280, ε_N = 0.00835\n",
      "N = 107 → P_err = 0.41300, ε_N = 0.00826\n",
      "N = 108 → P_err = 0.40880, ε_N = 0.00828\n",
      "N = 109 → P_err = 0.41580, ε_N = 0.00805\n",
      "N = 110 → P_err = 0.40970, ε_N = 0.00811\n",
      "N = 111 → P_err = 0.40330, ε_N = 0.00818\n",
      "N = 112 → P_err = 0.41150, ε_N = 0.00793\n",
      "N = 113 → P_err = 0.40890, ε_N = 0.00791\n",
      "N = 114 → P_err = 0.39910, ε_N = 0.00806\n",
      "N = 115 → P_err = 0.40770, ε_N = 0.00780\n",
      "N = 116 → P_err = 0.41400, ε_N = 0.00760\n",
      "N = 117 → P_err = 0.41150, ε_N = 0.00759\n",
      "N = 118 → P_err = 0.40810, ε_N = 0.00760\n",
      "N = 119 → P_err = 0.41150, ε_N = 0.00746\n",
      "N = 120 → P_err = 0.40900, ε_N = 0.00745\n",
      "N = 121 → P_err = 0.40370, ε_N = 0.00750\n",
      "N = 122 → P_err = 0.40360, ε_N = 0.00744\n",
      "N = 123 → P_err = 0.40420, ε_N = 0.00736\n",
      "N = 124 → P_err = 0.40700, ε_N = 0.00725\n",
      "N = 125 → P_err = 0.40160, ε_N = 0.00730\n",
      "N = 126 → P_err = 0.40580, ε_N = 0.00716\n",
      "N = 127 → P_err = 0.40990, ε_N = 0.00702\n",
      "N = 128 → P_err = 0.41380, ε_N = 0.00689\n",
      "N = 129 → P_err = 0.40260, ε_N = 0.00705\n",
      "N = 130 → P_err = 0.40500, ε_N = 0.00695\n",
      "N = 131 → P_err = 0.40270, ε_N = 0.00694\n",
      "N = 132 → P_err = 0.39680, ε_N = 0.00700\n",
      "N = 133 → P_err = 0.40390, ε_N = 0.00682\n",
      "N = 134 → P_err = 0.39900, ε_N = 0.00686\n",
      "N = 135 → P_err = 0.39500, ε_N = 0.00688\n",
      "N = 136 → P_err = 0.39790, ε_N = 0.00678\n",
      "N = 137 → P_err = 0.40130, ε_N = 0.00666\n",
      "N = 138 → P_err = 0.39350, ε_N = 0.00676\n",
      "N = 139 → P_err = 0.40500, ε_N = 0.00650\n",
      "N = 140 → P_err = 0.39920, ε_N = 0.00656\n",
      "N = 141 → P_err = 0.39440, ε_N = 0.00660\n",
      "N = 142 → P_err = 0.39490, ε_N = 0.00654\n",
      "N = 143 → P_err = 0.39990, ε_N = 0.00641\n",
      "N = 144 → P_err = 0.39680, ε_N = 0.00642\n",
      "N = 145 → P_err = 0.39330, ε_N = 0.00644\n",
      "N = 146 → P_err = 0.39970, ε_N = 0.00628\n",
      "N = 147 → P_err = 0.38400, ε_N = 0.00651\n",
      "N = 148 → P_err = 0.38770, ε_N = 0.00640\n",
      "N = 149 → P_err = 0.39060, ε_N = 0.00631\n",
      "N = 150 → P_err = 0.38420, ε_N = 0.00638\n",
      "N = 151 → P_err = 0.38530, ε_N = 0.00632\n",
      "N = 152 → P_err = 0.39660, ε_N = 0.00608\n",
      "N = 153 → P_err = 0.39140, ε_N = 0.00613\n",
      "N = 154 → P_err = 0.38870, ε_N = 0.00614\n",
      "N = 155 → P_err = 0.39400, ε_N = 0.00601\n",
      "N = 156 → P_err = 0.39330, ε_N = 0.00598\n",
      "N = 157 → P_err = 0.39660, ε_N = 0.00589\n",
      "N = 158 → P_err = 0.38760, ε_N = 0.00600\n",
      "N = 159 → P_err = 0.39290, ε_N = 0.00588\n",
      "N = 160 → P_err = 0.39260, ε_N = 0.00584\n",
      "N = 161 → P_err = 0.38840, ε_N = 0.00587\n",
      "N = 162 → P_err = 0.38780, ε_N = 0.00585\n",
      "N = 163 → P_err = 0.39780, ε_N = 0.00566\n",
      "N = 164 → P_err = 0.39130, ε_N = 0.00572\n",
      "N = 165 → P_err = 0.39130, ε_N = 0.00569\n",
      "N = 166 → P_err = 0.38600, ε_N = 0.00573\n",
      "N = 167 → P_err = 0.38800, ε_N = 0.00567\n",
      "N = 168 → P_err = 0.38620, ε_N = 0.00566\n",
      "N = 169 → P_err = 0.38200, ε_N = 0.00569\n",
      "N = 170 → P_err = 0.38720, ε_N = 0.00558\n",
      "N = 171 → P_err = 0.38310, ε_N = 0.00561\n",
      "N = 172 → P_err = 0.38190, ε_N = 0.00560\n",
      "N = 173 → P_err = 0.38530, ε_N = 0.00551\n",
      "N = 174 → P_err = 0.38800, ε_N = 0.00544\n",
      "N = 175 → P_err = 0.37920, ε_N = 0.00554\n",
      "N = 176 → P_err = 0.38700, ε_N = 0.00539\n",
      "N = 177 → P_err = 0.37930, ε_N = 0.00548\n",
      "N = 178 → P_err = 0.38770, ε_N = 0.00532\n",
      "N = 179 → P_err = 0.38470, ε_N = 0.00534\n",
      "N = 180 → P_err = 0.39010, ε_N = 0.00523\n",
      "N = 181 → P_err = 0.38310, ε_N = 0.00530\n",
      "N = 182 → P_err = 0.38200, ε_N = 0.00529\n",
      "N = 183 → P_err = 0.38300, ε_N = 0.00524\n",
      "N = 184 → P_err = 0.37430, ε_N = 0.00534\n",
      "N = 185 → P_err = 0.38570, ε_N = 0.00515\n",
      "N = 186 → P_err = 0.38420, ε_N = 0.00514\n",
      "N = 187 → P_err = 0.38430, ε_N = 0.00511\n",
      "N = 188 → P_err = 0.38850, ε_N = 0.00503\n",
      "N = 189 → P_err = 0.37330, ε_N = 0.00521\n",
      "N = 190 → P_err = 0.38540, ε_N = 0.00502\n",
      "N = 191 → P_err = 0.38380, ε_N = 0.00501\n",
      "N = 192 → P_err = 0.39060, ε_N = 0.00490\n",
      "N = 193 → P_err = 0.37850, ε_N = 0.00503\n",
      "N = 194 → P_err = 0.38810, ε_N = 0.00488\n",
      "N = 195 → P_err = 0.38560, ε_N = 0.00489\n",
      "N = 196 → P_err = 0.38490, ε_N = 0.00487\n",
      "N = 197 → P_err = 0.38550, ε_N = 0.00484\n",
      "N = 198 → P_err = 0.37000, ε_N = 0.00502\n",
      "N = 199 → P_err = 0.37370, ε_N = 0.00495\n",
      "N = 200 → P_err = 0.38760, ε_N = 0.00474\n",
      "N = 201 → P_err = 0.38130, ε_N = 0.00480\n",
      "N = 202 → P_err = 0.38030, ε_N = 0.00479\n",
      "N = 203 → P_err = 0.37920, ε_N = 0.00478\n",
      "N = 204 → P_err = 0.38020, ε_N = 0.00474\n",
      "N = 205 → P_err = 0.37880, ε_N = 0.00474\n",
      "N = 206 → P_err = 0.37840, ε_N = 0.00472\n",
      "N = 207 → P_err = 0.37900, ε_N = 0.00469\n",
      "N = 208 → P_err = 0.37650, ε_N = 0.00470\n",
      "N = 209 → P_err = 0.37820, ε_N = 0.00465\n",
      "N = 210 → P_err = 0.37470, ε_N = 0.00467\n",
      "N = 211 → P_err = 0.36960, ε_N = 0.00472\n",
      "N = 212 → P_err = 0.37440, ε_N = 0.00463\n",
      "N = 213 → P_err = 0.37070, ε_N = 0.00466\n",
      "N = 214 → P_err = 0.37840, ε_N = 0.00454\n",
      "N = 215 → P_err = 0.38280, ε_N = 0.00447\n",
      "N = 216 → P_err = 0.38040, ε_N = 0.00447\n",
      "N = 217 → P_err = 0.37390, ε_N = 0.00453\n",
      "N = 218 → P_err = 0.37990, ε_N = 0.00444\n",
      "N = 219 → P_err = 0.37030, ε_N = 0.00454\n",
      "N = 220 → P_err = 0.36350, ε_N = 0.00460\n",
      "N = 221 → P_err = 0.37730, ε_N = 0.00441\n",
      "N = 222 → P_err = 0.36940, ε_N = 0.00449\n",
      "N = 223 → P_err = 0.37580, ε_N = 0.00439\n",
      "N = 224 → P_err = 0.37780, ε_N = 0.00435\n",
      "N = 225 → P_err = 0.37200, ε_N = 0.00439\n",
      "N = 226 → P_err = 0.37350, ε_N = 0.00436\n",
      "N = 227 → P_err = 0.36540, ε_N = 0.00444\n",
      "N = 228 → P_err = 0.36440, ε_N = 0.00443\n",
      "N = 229 → P_err = 0.37700, ε_N = 0.00426\n",
      "N = 230 → P_err = 0.37530, ε_N = 0.00426\n",
      "N = 231 → P_err = 0.37110, ε_N = 0.00429\n",
      "N = 232 → P_err = 0.37000, ε_N = 0.00429\n",
      "N = 233 → P_err = 0.36670, ε_N = 0.00431\n",
      "N = 234 → P_err = 0.36840, ε_N = 0.00427\n",
      "N = 235 → P_err = 0.37240, ε_N = 0.00420\n",
      "N = 236 → P_err = 0.37440, ε_N = 0.00416\n",
      "N = 237 → P_err = 0.36590, ε_N = 0.00424\n",
      "N = 238 → P_err = 0.36860, ε_N = 0.00419\n",
      "N = 239 → P_err = 0.35900, ε_N = 0.00429\n",
      "N = 240 → P_err = 0.37080, ε_N = 0.00413\n",
      "N = 241 → P_err = 0.37180, ε_N = 0.00411\n",
      "N = 242 → P_err = 0.36420, ε_N = 0.00417\n",
      "N = 243 → P_err = 0.36590, ε_N = 0.00414\n"
     ]
    },
    {
     "ename": "KeyboardInterrupt",
     "evalue": "",
     "output_type": "error",
     "traceback": [
      "\u001b[0;31m---------------------------------------------------------------------------\u001b[0m",
      "\u001b[0;31mKeyboardInterrupt\u001b[0m                         Traceback (most recent call last)",
      "Cell \u001b[0;32mIn[128], line 6\u001b[0m\n\u001b[1;32m      3\u001b[0m set_of_eps_N_cm \u001b[38;5;241m=\u001b[39m []\n\u001b[1;32m      5\u001b[0m \u001b[38;5;28;01mfor\u001b[39;00m N \u001b[38;5;129;01min\u001b[39;00m \u001b[38;5;28mrange\u001b[39m(\u001b[38;5;241m1\u001b[39m, \u001b[38;5;241m100000000\u001b[39m):\n\u001b[0;32m----> 6\u001b[0m     P_err_cm, epsilon_N_cm \u001b[38;5;241m=\u001b[39m \u001b[43mestimate_error_exponent\u001b[49m\u001b[43m(\u001b[49m\u001b[43mrho0_cm\u001b[49m\u001b[43m,\u001b[49m\u001b[43m \u001b[49m\u001b[43mrho1_cm\u001b[49m\u001b[43m,\u001b[49m\u001b[43m \u001b[49m\u001b[43mE0\u001b[49m\u001b[43m,\u001b[49m\u001b[43m \u001b[49m\u001b[43mE1\u001b[49m\u001b[43m,\u001b[49m\u001b[43m \u001b[49m\u001b[43mN\u001b[49m\u001b[43m,\u001b[49m\u001b[43m \u001b[49m\u001b[43mnum_trials\u001b[49m\u001b[38;5;241;43m=\u001b[39;49m\u001b[38;5;241;43m10000\u001b[39;49m\u001b[43m)\u001b[49m\n\u001b[1;32m      7\u001b[0m     \u001b[38;5;28mprint\u001b[39m(\u001b[38;5;124mf\u001b[39m\u001b[38;5;124m\"\u001b[39m\u001b[38;5;124mN = \u001b[39m\u001b[38;5;132;01m{\u001b[39;00mN\u001b[38;5;132;01m}\u001b[39;00m\u001b[38;5;124m → P_err = \u001b[39m\u001b[38;5;132;01m{\u001b[39;00mP_err_cm\u001b[38;5;132;01m:\u001b[39;00m\u001b[38;5;124m.5f\u001b[39m\u001b[38;5;132;01m}\u001b[39;00m\u001b[38;5;124m, ε_N = \u001b[39m\u001b[38;5;132;01m{\u001b[39;00mepsilon_N_cm\u001b[38;5;132;01m:\u001b[39;00m\u001b[38;5;124m.5f\u001b[39m\u001b[38;5;132;01m}\u001b[39;00m\u001b[38;5;124m\"\u001b[39m)\n\u001b[1;32m      8\u001b[0m     set_of_eps_N_cm\u001b[38;5;241m.\u001b[39mappend(epsilon_N_cm)\n",
      "Cell \u001b[0;32mIn[85], line 9\u001b[0m, in \u001b[0;36mestimate_error_exponent\u001b[0;34m(rho_plus, rho_minus, Pi_plus, Pi_minus, N, num_trials, M)\u001b[0m\n\u001b[1;32m      6\u001b[0m num_errors \u001b[38;5;241m=\u001b[39m \u001b[38;5;241m0\u001b[39m\n\u001b[1;32m      8\u001b[0m \u001b[38;5;28;01mfor\u001b[39;00m _ \u001b[38;5;129;01min\u001b[39;00m \u001b[38;5;28mrange\u001b[39m(num_trials):\n\u001b[0;32m----> 9\u001b[0m     correct \u001b[38;5;241m=\u001b[39m \u001b[43msimulate_majority_vote\u001b[49m\u001b[43m(\u001b[49m\u001b[43mrho_plus\u001b[49m\u001b[43m,\u001b[49m\u001b[43m \u001b[49m\u001b[43mrho_minus\u001b[49m\u001b[43m,\u001b[49m\u001b[43m \u001b[49m\u001b[43mPi_plus\u001b[49m\u001b[43m,\u001b[49m\u001b[43m \u001b[49m\u001b[43mPi_minus\u001b[49m\u001b[43m,\u001b[49m\u001b[43m \u001b[49m\u001b[43mN\u001b[49m\u001b[43m,\u001b[49m\u001b[43m \u001b[49m\u001b[43mM\u001b[49m\u001b[43m)\u001b[49m\n\u001b[1;32m     10\u001b[0m     \u001b[38;5;28;01mif\u001b[39;00m \u001b[38;5;129;01mnot\u001b[39;00m correct:\n\u001b[1;32m     11\u001b[0m         num_errors \u001b[38;5;241m+\u001b[39m\u001b[38;5;241m=\u001b[39m \u001b[38;5;241m1\u001b[39m\n",
      "Cell \u001b[0;32mIn[84], line 15\u001b[0m, in \u001b[0;36msimulate_majority_vote\u001b[0;34m(rho_plus, rho_minus, Pi_plus, Pi_minus, N, M)\u001b[0m\n\u001b[1;32m     13\u001b[0m rho_true_M \u001b[38;5;241m=\u001b[39m state_copies(rho_true, M)\n\u001b[1;32m     14\u001b[0m p_plus \u001b[38;5;241m=\u001b[39m np\u001b[38;5;241m.\u001b[39mreal(np\u001b[38;5;241m.\u001b[39mtrace(Pi_plus \u001b[38;5;241m@\u001b[39m rho_true_M))\n\u001b[0;32m---> 15\u001b[0m p_minus \u001b[38;5;241m=\u001b[39m np\u001b[38;5;241m.\u001b[39mreal(\u001b[43mnp\u001b[49m\u001b[38;5;241;43m.\u001b[39;49m\u001b[43mtrace\u001b[49m\u001b[43m(\u001b[49m\u001b[43mPi_minus\u001b[49m\u001b[43m \u001b[49m\u001b[38;5;241;43m@\u001b[39;49m\u001b[43m \u001b[49m\u001b[43mrho_true_M\u001b[49m\u001b[43m)\u001b[49m)\n\u001b[1;32m     16\u001b[0m vote \u001b[38;5;241m=\u001b[39m np\u001b[38;5;241m.\u001b[39mrandom\u001b[38;5;241m.\u001b[39mchoice([\u001b[38;5;241m+\u001b[39m\u001b[38;5;241m1\u001b[39m, \u001b[38;5;241m-\u001b[39m\u001b[38;5;241m1\u001b[39m], p\u001b[38;5;241m=\u001b[39m[p_plus, p_minus])\n\u001b[1;32m     17\u001b[0m votes\u001b[38;5;241m.\u001b[39mappend(vote)\n",
      "File \u001b[0;32m~/Documents/Work/Research/HBFC/.venv/lib/python3.9/site-packages/numpy/_core/fromnumeric.py:1837\u001b[0m, in \u001b[0;36mtrace\u001b[0;34m(a, offset, axis1, axis2, dtype, out)\u001b[0m\n\u001b[1;32m   1833\u001b[0m     \u001b[38;5;28;01mreturn\u001b[39;00m asarray(a)\u001b[38;5;241m.\u001b[39mtrace(\n\u001b[1;32m   1834\u001b[0m         offset\u001b[38;5;241m=\u001b[39moffset, axis1\u001b[38;5;241m=\u001b[39maxis1, axis2\u001b[38;5;241m=\u001b[39maxis2, dtype\u001b[38;5;241m=\u001b[39mdtype, out\u001b[38;5;241m=\u001b[39mout\n\u001b[1;32m   1835\u001b[0m     )\n\u001b[1;32m   1836\u001b[0m \u001b[38;5;28;01melse\u001b[39;00m:\n\u001b[0;32m-> 1837\u001b[0m     \u001b[38;5;28;01mreturn\u001b[39;00m \u001b[43masanyarray\u001b[49m\u001b[43m(\u001b[49m\u001b[43ma\u001b[49m\u001b[43m)\u001b[49m\u001b[38;5;241;43m.\u001b[39;49m\u001b[43mtrace\u001b[49m\u001b[43m(\u001b[49m\n\u001b[1;32m   1838\u001b[0m \u001b[43m        \u001b[49m\u001b[43moffset\u001b[49m\u001b[38;5;241;43m=\u001b[39;49m\u001b[43moffset\u001b[49m\u001b[43m,\u001b[49m\u001b[43m \u001b[49m\u001b[43maxis1\u001b[49m\u001b[38;5;241;43m=\u001b[39;49m\u001b[43maxis1\u001b[49m\u001b[43m,\u001b[49m\u001b[43m \u001b[49m\u001b[43maxis2\u001b[49m\u001b[38;5;241;43m=\u001b[39;49m\u001b[43maxis2\u001b[49m\u001b[43m,\u001b[49m\u001b[43m \u001b[49m\u001b[43mdtype\u001b[49m\u001b[38;5;241;43m=\u001b[39;49m\u001b[43mdtype\u001b[49m\u001b[43m,\u001b[49m\u001b[43m \u001b[49m\u001b[43mout\u001b[49m\u001b[38;5;241;43m=\u001b[39;49m\u001b[43mout\u001b[49m\n\u001b[1;32m   1839\u001b[0m \u001b[43m    \u001b[49m\u001b[43m)\u001b[49m\n",
      "\u001b[0;31mKeyboardInterrupt\u001b[0m: "
     ]
    }
   ],
   "source": [
    "E0, E1 = func_for_POVM(*angles)\n",
    "set_of_P_err_cm = []\n",
    "set_of_eps_N_cm = []\n",
    "\n",
    "for N in range(1, 100000000):\n",
    "    P_err_cm, epsilon_N_cm = estimate_error_exponent(rho0_cm, rho1_cm, E0, E1, N, num_trials=10000)\n",
    "    print(f\"N = {N} → P_err = {P_err_cm:.5f}, ε_N = {epsilon_N_cm:.5f}\")\n",
    "    set_of_eps_N_cm.append(epsilon_N_cm)\n",
    "    set_of_P_err_cm.append(P_err_cm)"
   ]
  },
  {
   "cell_type": "code",
   "execution_count": null,
   "id": "19596713",
   "metadata": {},
   "outputs": [
    {
     "data": {
      "image/png": "[encoded data removed]",
      "text/plain": [
       "<Figure size 640x480 with 1 Axes>"
      ]
     },
     "metadata": {},
     "output_type": "display_data"
    }
   ],
   "source": [
    "Ns = list(range(1, 100000000))  # N starts at 1\n",
    "\n",
    "plt.plot(Ns, set_of_eps_N_cm, label=\"Empirical ε_N\")\n",
    "plt.axhline(y=chernoff_error_exponent(rho0_cm, rho1_cm), color='r', linestyle='--', label='Chernoff Bound')\n",
    "plt.xlabel(\"Number of Copies N\")\n",
    "plt.ylabel(\"Error Exponent ε_N\")\n",
    "plt.title(\"Error Exponent from Majority Vote vs Chernoff Bound\")\n",
    "plt.legend()\n",
    "plt.grid(True)\n",
    "plt.show()\n"
   ]
  },
  {
   "cell_type": "code",
   "execution_count": 127,
   "id": "1711e03e",
   "metadata": {},
   "outputs": [
    {
     "data": {
      "text/plain": [
       "np.float64(0.007390623617377795)"
      ]
     },
     "execution_count": 127,
     "metadata": {},
     "output_type": "execute_result"
    }
   ],
   "source": [
    "chernoff_error_exponent(rho_plus_nt, rho_minus_nt)"
   ]
  },
  {
   "cell_type": "code",
   "execution_count": null,
   "id": "5f49c604",
   "metadata": {},
   "outputs": [],
   "source": []
  }
 ],
 "metadata": {
  "kernelspec": {
   "display_name": ".venv",
   "language": "python",
   "name": "python3"
  },
  "language_info": {
   "codemirror_mode": {
    "name": "ipython",
    "version": 3
   },
   "file_extension": ".py",
   "mimetype": "text/x-python",
   "name": "python",
   "nbconvert_exporter": "python",
   "pygments_lexer": "ipython3",
   "version": "3.9.6"
  }
 },
 "nbformat": 4,
 "nbformat_minor": 5
}
